{
 "cells": [
  {
   "cell_type": "markdown",
   "metadata": {},
   "source": [
    "<a class=\"anchor\" id=\"0.1\"></a>\n",
    "## Table of Content\n",
    "***\n",
    "\n",
    "0. [Step-00: Import Libraries](#0)\n",
    "\n",
    "<!-- *** -->\n",
    "\n",
    "1. [Step-01: Import Dataset](#1)\n",
    "   - 1.1 [Data Overview](#1.1)\n",
    "   - 1.2 [Missing Values](#1.2)\n",
    "   - 1.3 [Numerical Features](#1.3)\n",
    "   - 1.4 [Discrete Features](#1.4)\n",
    "   - 1.5 [Continuous Features](#1.5)\n",
    "   - 1.6 [Catagorical Features](#1.6)\n",
    "   \n",
    "<!-- *** -->\n",
    "\n",
    "2. [Step-02: Data Engineering](#2)\n",
    "   - 2.1 [Exploratory Data Analysis. (EDA)](#2.1)\n",
    "     - 2.1.1 [Before Normalization with (Plotting)](#2.1.1)\n",
    "     - 2.1.2 [Apply Yeo-Johnson transformation](#2.1.2)\n",
    "     - 2.1.3 [After Normalization with (Plotting)](#2.1.3)\n",
    "   - 2.2 [Data Wrangling](#2.2)\n",
    "     - 2.2.1 [Features Scaling](#2.2.1)\n",
    "\n",
    "<!-- *** -->\n",
    "\n",
    "3. [Step-03: Data Cleaning or Organize](#3)\n",
    "   - 3.1 [Remove Outliers](#3.1)\n",
    "\n",
    "<!-- *** -->\n",
    "\n",
    "4. [Step-04: Splitting (Training and Testing) Data](#4)\n",
    "\n",
    "<!-- *** -->\n",
    "\n",
    "5. [Step-05: Apply Techniques or Models](#5)\n",
    "   - 5.1 [Linear Regression](#5.1)\n",
    "   - 5.2 [Decision Tree Regressor](#5.2)\n",
    "   - 5.3 [Random Forest Regressor](#5.3)\n",
    "   - 5.4 [K_Nearest Neighbors](#5.4)\n",
    "   - 5.5 [Support Vector Machine](#5.5)\n",
    "   \n",
    "<!-- *** -->\n",
    "\n",
    "6. [Step-06: Evaluate or Compare Models Accuracy](#6)\n",
    "\n",
    "<!-- *** -->\n",
    "\n",
    "7. [Apply Cross-Validation](#7)\n",
    "\n",
    "<!-- *** -->\n",
    "\n",
    "8. [Best Technique](#8)\n"
   ]
  },
  {
   "cell_type": "markdown",
   "metadata": {},
   "source": [
    "## <span style=\"color:orange\">Techniques: <span style=\"color:yellow\">**Support Vector Machine**</span>"
   ]
  },
  {
   "cell_type": "markdown",
   "metadata": {},
   "source": [
    "### Problem:<span style=\"color:red\"> **Regression**</span>"
   ]
  },
  {
   "cell_type": "markdown",
   "metadata": {},
   "source": [
    "### Dataset: <span style=\"color:magenta\">**Wind Speed Prediction !**</span>"
   ]
  },
  {
   "cell_type": "markdown",
   "metadata": {},
   "source": [
    "***"
   ]
  },
  {
   "cell_type": "markdown",
   "metadata": {},
   "source": [
    "***"
   ]
  },
  {
   "cell_type": "markdown",
   "metadata": {},
   "source": [
    "### <span style=\"color:cyan\">Step: 00</span>: (Import Libraries) \n",
    "\n",
    "<a class=\"anchor\" id=\"0\"></a>"
   ]
  },
  {
   "cell_type": "code",
   "execution_count": 1,
   "metadata": {},
   "outputs": [],
   "source": [
    "import pandas as pd\n",
    "import numpy as np\n",
    "import scipy.stats as stats\n",
    "from math import sqrt\n",
    "\n",
    "\n",
    "import matplotlib.pyplot as plt\n",
    "import seaborn as sns\n",
    "\n",
    "from sklearn.preprocessing import PowerTransformer\n",
    "from sklearn.preprocessing import MinMaxScaler\n",
    "\n",
    "from sklearn.model_selection import train_test_split\n",
    "\n",
    "from sklearn.linear_model import LinearRegression\n",
    "from sklearn.tree import DecisionTreeRegressor\n",
    "from sklearn.ensemble import RandomForestRegressor\n",
    "from sklearn.neighbors import KNeighborsRegressor\n",
    "from sklearn import svm\n",
    "\n",
    "from sklearn.metrics import r2_score\n",
    "from sklearn.metrics import mean_absolute_error, mean_squared_error\n",
    "\n",
    "from sklearn.model_selection import cross_val_score"
   ]
  },
  {
   "cell_type": "markdown",
   "metadata": {},
   "source": [
    "### <span style=\"color:cyan\">Step: 01</span>: (Import Dataset)\n",
    "\n",
    "<a class=\"anchor\" id=\"1\"></a>"
   ]
  },
  {
   "cell_type": "code",
   "execution_count": 2,
   "metadata": {},
   "outputs": [
    {
     "data": {
      "text/html": [
       "<div>\n",
       "<style scoped>\n",
       "    .dataframe tbody tr th:only-of-type {\n",
       "        vertical-align: middle;\n",
       "    }\n",
       "\n",
       "    .dataframe tbody tr th {\n",
       "        vertical-align: top;\n",
       "    }\n",
       "\n",
       "    .dataframe thead th {\n",
       "        text-align: right;\n",
       "    }\n",
       "</style>\n",
       "<table border=\"1\" class=\"dataframe\">\n",
       "  <thead>\n",
       "    <tr style=\"text-align: right;\">\n",
       "      <th></th>\n",
       "      <th>DATE</th>\n",
       "      <th>WIND</th>\n",
       "      <th>IND</th>\n",
       "      <th>RAIN</th>\n",
       "      <th>IND.1</th>\n",
       "      <th>T.MAX</th>\n",
       "      <th>IND.2</th>\n",
       "      <th>T.MIN</th>\n",
       "      <th>T.MIN.G</th>\n",
       "    </tr>\n",
       "  </thead>\n",
       "  <tbody>\n",
       "    <tr>\n",
       "      <th>0</th>\n",
       "      <td>1961-01-01</td>\n",
       "      <td>13.67</td>\n",
       "      <td>0</td>\n",
       "      <td>0.2</td>\n",
       "      <td>0.0</td>\n",
       "      <td>9.5</td>\n",
       "      <td>0.0</td>\n",
       "      <td>3.7</td>\n",
       "      <td>-1.0</td>\n",
       "    </tr>\n",
       "  </tbody>\n",
       "</table>\n",
       "</div>"
      ],
      "text/plain": [
       "         DATE   WIND  IND  RAIN  IND.1  T.MAX  IND.2  T.MIN  T.MIN.G\n",
       "0  1961-01-01  13.67    0   0.2    0.0    9.5    0.0    3.7     -1.0"
      ]
     },
     "execution_count": 2,
     "metadata": {},
     "output_type": "execute_result"
    }
   ],
   "source": [
    "# import Dataset !\n",
    "\n",
    "df = pd.read_csv('wind_speed.csv')\n",
    "df.head(1)"
   ]
  },
  {
   "cell_type": "code",
   "execution_count": 3,
   "metadata": {},
   "outputs": [],
   "source": [
    "df.rename(columns = {'IND.1':'IND_1',\n",
    "                     'T.MAX':'T_MAX',\n",
    "                     'IND.2':'IND_2',\n",
    "                     'T.MIN':'T_MIN',\n",
    "                     'T.MIN.G':'T_MIN_G'}, inplace = True)"
   ]
  },
  {
   "cell_type": "code",
   "execution_count": 4,
   "metadata": {},
   "outputs": [],
   "source": [
    "df = df.drop('DATE', axis=1)"
   ]
  },
  {
   "cell_type": "code",
   "execution_count": 5,
   "metadata": {},
   "outputs": [
    {
     "data": {
      "text/html": [
       "<div>\n",
       "<style scoped>\n",
       "    .dataframe tbody tr th:only-of-type {\n",
       "        vertical-align: middle;\n",
       "    }\n",
       "\n",
       "    .dataframe tbody tr th {\n",
       "        vertical-align: top;\n",
       "    }\n",
       "\n",
       "    .dataframe thead th {\n",
       "        text-align: right;\n",
       "    }\n",
       "</style>\n",
       "<table border=\"1\" class=\"dataframe\">\n",
       "  <thead>\n",
       "    <tr style=\"text-align: right;\">\n",
       "      <th></th>\n",
       "      <th>WIND</th>\n",
       "      <th>IND</th>\n",
       "      <th>RAIN</th>\n",
       "      <th>IND_1</th>\n",
       "      <th>T_MAX</th>\n",
       "      <th>IND_2</th>\n",
       "      <th>T_MIN</th>\n",
       "      <th>T_MIN_G</th>\n",
       "    </tr>\n",
       "  </thead>\n",
       "  <tbody>\n",
       "    <tr>\n",
       "      <th>3941</th>\n",
       "      <td>17.00</td>\n",
       "      <td>0</td>\n",
       "      <td>5.3</td>\n",
       "      <td>0.0</td>\n",
       "      <td>14.2</td>\n",
       "      <td>0.0</td>\n",
       "      <td>10.3</td>\n",
       "      <td>5.1</td>\n",
       "    </tr>\n",
       "    <tr>\n",
       "      <th>4172</th>\n",
       "      <td>4.58</td>\n",
       "      <td>0</td>\n",
       "      <td>0.2</td>\n",
       "      <td>0.0</td>\n",
       "      <td>12.8</td>\n",
       "      <td>0.0</td>\n",
       "      <td>5.8</td>\n",
       "      <td>4.0</td>\n",
       "    </tr>\n",
       "    <tr>\n",
       "      <th>5117</th>\n",
       "      <td>21.59</td>\n",
       "      <td>0</td>\n",
       "      <td>0.2</td>\n",
       "      <td>0.0</td>\n",
       "      <td>11.2</td>\n",
       "      <td>0.0</td>\n",
       "      <td>7.0</td>\n",
       "      <td>5.8</td>\n",
       "    </tr>\n",
       "    <tr>\n",
       "      <th>3412</th>\n",
       "      <td>3.37</td>\n",
       "      <td>0</td>\n",
       "      <td>8.1</td>\n",
       "      <td>0.0</td>\n",
       "      <td>12.2</td>\n",
       "      <td>0.0</td>\n",
       "      <td>9.0</td>\n",
       "      <td>6.0</td>\n",
       "    </tr>\n",
       "  </tbody>\n",
       "</table>\n",
       "</div>"
      ],
      "text/plain": [
       "       WIND  IND  RAIN  IND_1  T_MAX  IND_2  T_MIN  T_MIN_G\n",
       "3941  17.00    0   5.3    0.0   14.2    0.0   10.3      5.1\n",
       "4172   4.58    0   0.2    0.0   12.8    0.0    5.8      4.0\n",
       "5117  21.59    0   0.2    0.0   11.2    0.0    7.0      5.8\n",
       "3412   3.37    0   8.1    0.0   12.2    0.0    9.0      6.0"
      ]
     },
     "execution_count": 5,
     "metadata": {},
     "output_type": "execute_result"
    }
   ],
   "source": [
    "df.sample(4)"
   ]
  },
  {
   "cell_type": "code",
   "execution_count": 6,
   "metadata": {},
   "outputs": [
    {
     "data": {
      "text/plain": [
       "(6574, 8)"
      ]
     },
     "execution_count": 6,
     "metadata": {},
     "output_type": "execute_result"
    }
   ],
   "source": [
    "df.shape"
   ]
  },
  {
   "cell_type": "code",
   "execution_count": 7,
   "metadata": {},
   "outputs": [
    {
     "data": {
      "text/plain": [
       "WIND         0\n",
       "IND          0\n",
       "RAIN         0\n",
       "IND_1       61\n",
       "T_MAX      621\n",
       "IND_2       61\n",
       "T_MIN      674\n",
       "T_MIN_G    360\n",
       "dtype: int64"
      ]
     },
     "execution_count": 7,
     "metadata": {},
     "output_type": "execute_result"
    }
   ],
   "source": [
    "df.isnull().sum()"
   ]
  },
  {
   "cell_type": "code",
   "execution_count": 8,
   "metadata": {},
   "outputs": [
    {
     "data": {
      "text/plain": [
       "0       0.0\n",
       "1       0.0\n",
       "2       0.0\n",
       "3       0.0\n",
       "4       0.0\n",
       "       ... \n",
       "6569    0.0\n",
       "6570    0.0\n",
       "6571    0.0\n",
       "6572    0.0\n",
       "6573    0.0\n",
       "Name: IND_1, Length: 6574, dtype: float64"
      ]
     },
     "execution_count": 8,
     "metadata": {},
     "output_type": "execute_result"
    }
   ],
   "source": [
    "df['IND_1'] = df['IND_1'].replace(np.nan, df.IND_1.mean())\n",
    "df['IND_1']"
   ]
  },
  {
   "cell_type": "code",
   "execution_count": 9,
   "metadata": {},
   "outputs": [
    {
     "data": {
      "text/plain": [
       "0       9.5\n",
       "1       7.2\n",
       "2       5.5\n",
       "3       5.6\n",
       "4       7.2\n",
       "       ... \n",
       "6569    9.8\n",
       "6570    9.1\n",
       "6571    5.0\n",
       "6572    2.9\n",
       "6573    1.2\n",
       "Name: T_MAX, Length: 6574, dtype: float64"
      ]
     },
     "execution_count": 9,
     "metadata": {},
     "output_type": "execute_result"
    }
   ],
   "source": [
    "df['T_MAX'] = df['T_MAX'].replace(np.nan, df.T_MAX.mean())\n",
    "df['T_MAX']"
   ]
  },
  {
   "cell_type": "code",
   "execution_count": 10,
   "metadata": {},
   "outputs": [
    {
     "data": {
      "text/plain": [
       "0       0.0\n",
       "1       0.0\n",
       "2       0.0\n",
       "3       0.0\n",
       "4       1.0\n",
       "       ... \n",
       "6569    0.0\n",
       "6570    0.0\n",
       "6571    0.0\n",
       "6572    0.0\n",
       "6573    1.0\n",
       "Name: IND_2, Length: 6574, dtype: float64"
      ]
     },
     "execution_count": 10,
     "metadata": {},
     "output_type": "execute_result"
    }
   ],
   "source": [
    "df['IND_2'] = df['IND_2'].replace(np.nan, df.IND_2.mean())\n",
    "df['IND_2']"
   ]
  },
  {
   "cell_type": "code",
   "execution_count": 11,
   "metadata": {},
   "outputs": [
    {
     "data": {
      "text/plain": [
       "0       3.7\n",
       "1       4.2\n",
       "2       0.5\n",
       "3       0.4\n",
       "4      -1.5\n",
       "       ... \n",
       "6569    4.0\n",
       "6570    8.5\n",
       "6571    3.5\n",
       "6572    0.3\n",
       "6573   -1.5\n",
       "Name: T_MIN, Length: 6574, dtype: float64"
      ]
     },
     "execution_count": 11,
     "metadata": {},
     "output_type": "execute_result"
    }
   ],
   "source": [
    "df['T_MIN'] = df['T_MIN'].replace(np.nan, df.T_MIN.mean())\n",
    "df['T_MIN']"
   ]
  },
  {
   "cell_type": "code",
   "execution_count": 12,
   "metadata": {},
   "outputs": [
    {
     "data": {
      "text/plain": [
       "0      -1.0\n",
       "1       1.1\n",
       "2      -0.5\n",
       "3      -3.2\n",
       "4      -7.5\n",
       "       ... \n",
       "6569    0.0\n",
       "6570    8.0\n",
       "6571    3.2\n",
       "6572   -0.5\n",
       "6573   -3.0\n",
       "Name: T_MIN_G, Length: 6574, dtype: float64"
      ]
     },
     "execution_count": 12,
     "metadata": {},
     "output_type": "execute_result"
    }
   ],
   "source": [
    "df['T_MIN_G'] = df['T_MIN_G'].replace(np.nan, df.T_MIN_G.mean())\n",
    "df['T_MIN_G']"
   ]
  },
  {
   "cell_type": "code",
   "execution_count": 13,
   "metadata": {},
   "outputs": [
    {
     "data": {
      "text/plain": [
       "WIND       0\n",
       "IND        0\n",
       "RAIN       0\n",
       "IND_1      0\n",
       "T_MAX      0\n",
       "IND_2      0\n",
       "T_MIN      0\n",
       "T_MIN_G    0\n",
       "dtype: int64"
      ]
     },
     "execution_count": 13,
     "metadata": {},
     "output_type": "execute_result"
    }
   ],
   "source": [
    "df.isnull().sum()"
   ]
  },
  {
   "cell_type": "markdown",
   "metadata": {},
   "source": [
    "***"
   ]
  },
  {
   "cell_type": "markdown",
   "metadata": {},
   "source": [
    "#### Data Overview\n",
    "\n",
    "<a class=\"anchor\" id=\"1.1\"></a>\n"
   ]
  },
  {
   "cell_type": "code",
   "execution_count": 14,
   "metadata": {},
   "outputs": [
    {
     "data": {
      "text/plain": [
       "(6574, 8)"
      ]
     },
     "execution_count": 14,
     "metadata": {},
     "output_type": "execute_result"
    }
   ],
   "source": [
    "df.shape"
   ]
  },
  {
   "cell_type": "code",
   "execution_count": 15,
   "metadata": {},
   "outputs": [
    {
     "data": {
      "text/plain": [
       "WIND       580\n",
       "IND          3\n",
       "RAIN       226\n",
       "IND_1        5\n",
       "T_MAX      247\n",
       "IND_2        6\n",
       "T_MIN      248\n",
       "T_MIN_G    284\n",
       "dtype: int64"
      ]
     },
     "execution_count": 15,
     "metadata": {},
     "output_type": "execute_result"
    }
   ],
   "source": [
    "df.nunique()"
   ]
  },
  {
   "cell_type": "code",
   "execution_count": 16,
   "metadata": {},
   "outputs": [
    {
     "name": "stdout",
     "output_type": "stream",
     "text": [
      "<class 'pandas.core.frame.DataFrame'>\n",
      "RangeIndex: 6574 entries, 0 to 6573\n",
      "Data columns (total 8 columns):\n",
      " #   Column   Non-Null Count  Dtype  \n",
      "---  ------   --------------  -----  \n",
      " 0   WIND     6574 non-null   float64\n",
      " 1   IND      6574 non-null   int64  \n",
      " 2   RAIN     6574 non-null   float64\n",
      " 3   IND_1    6574 non-null   float64\n",
      " 4   T_MAX    6574 non-null   float64\n",
      " 5   IND_2    6574 non-null   float64\n",
      " 6   T_MIN    6574 non-null   float64\n",
      " 7   T_MIN_G  6574 non-null   float64\n",
      "dtypes: float64(7), int64(1)\n",
      "memory usage: 411.0 KB\n"
     ]
    }
   ],
   "source": [
    "df.info()"
   ]
  },
  {
   "cell_type": "code",
   "execution_count": 17,
   "metadata": {},
   "outputs": [
    {
     "data": {
      "text/html": [
       "<div>\n",
       "<style scoped>\n",
       "    .dataframe tbody tr th:only-of-type {\n",
       "        vertical-align: middle;\n",
       "    }\n",
       "\n",
       "    .dataframe tbody tr th {\n",
       "        vertical-align: top;\n",
       "    }\n",
       "\n",
       "    .dataframe thead th {\n",
       "        text-align: right;\n",
       "    }\n",
       "</style>\n",
       "<table border=\"1\" class=\"dataframe\">\n",
       "  <thead>\n",
       "    <tr style=\"text-align: right;\">\n",
       "      <th></th>\n",
       "      <th>WIND</th>\n",
       "      <th>IND</th>\n",
       "      <th>RAIN</th>\n",
       "      <th>IND_1</th>\n",
       "      <th>T_MAX</th>\n",
       "      <th>IND_2</th>\n",
       "      <th>T_MIN</th>\n",
       "      <th>T_MIN_G</th>\n",
       "    </tr>\n",
       "  </thead>\n",
       "  <tbody>\n",
       "    <tr>\n",
       "      <th>count</th>\n",
       "      <td>6574.000000</td>\n",
       "      <td>6574.000000</td>\n",
       "      <td>6574.000000</td>\n",
       "      <td>6574.000000</td>\n",
       "      <td>6574.000000</td>\n",
       "      <td>6574.000000</td>\n",
       "      <td>6574.000000</td>\n",
       "      <td>6574.000000</td>\n",
       "    </tr>\n",
       "    <tr>\n",
       "      <th>mean</th>\n",
       "      <td>9.796834</td>\n",
       "      <td>0.391542</td>\n",
       "      <td>1.885169</td>\n",
       "      <td>0.356364</td>\n",
       "      <td>13.339123</td>\n",
       "      <td>0.464456</td>\n",
       "      <td>6.411678</td>\n",
       "      <td>2.736547</td>\n",
       "    </tr>\n",
       "    <tr>\n",
       "      <th>std</th>\n",
       "      <td>4.977272</td>\n",
       "      <td>1.179092</td>\n",
       "      <td>4.030529</td>\n",
       "      <td>1.123303</td>\n",
       "      <td>4.653792</td>\n",
       "      <td>1.172094</td>\n",
       "      <td>4.393061</td>\n",
       "      <td>5.414517</td>\n",
       "    </tr>\n",
       "    <tr>\n",
       "      <th>min</th>\n",
       "      <td>0.000000</td>\n",
       "      <td>0.000000</td>\n",
       "      <td>0.000000</td>\n",
       "      <td>0.000000</td>\n",
       "      <td>-0.100000</td>\n",
       "      <td>0.000000</td>\n",
       "      <td>-11.500000</td>\n",
       "      <td>-14.400000</td>\n",
       "    </tr>\n",
       "    <tr>\n",
       "      <th>25%</th>\n",
       "      <td>6.000000</td>\n",
       "      <td>0.000000</td>\n",
       "      <td>0.000000</td>\n",
       "      <td>0.000000</td>\n",
       "      <td>10.000000</td>\n",
       "      <td>0.000000</td>\n",
       "      <td>3.500000</td>\n",
       "      <td>-0.900000</td>\n",
       "    </tr>\n",
       "    <tr>\n",
       "      <th>50%</th>\n",
       "      <td>9.210000</td>\n",
       "      <td>0.000000</td>\n",
       "      <td>0.200000</td>\n",
       "      <td>0.000000</td>\n",
       "      <td>13.339123</td>\n",
       "      <td>0.000000</td>\n",
       "      <td>6.411678</td>\n",
       "      <td>2.736547</td>\n",
       "    </tr>\n",
       "    <tr>\n",
       "      <th>75%</th>\n",
       "      <td>12.960000</td>\n",
       "      <td>0.000000</td>\n",
       "      <td>2.000000</td>\n",
       "      <td>0.000000</td>\n",
       "      <td>16.800000</td>\n",
       "      <td>0.000000</td>\n",
       "      <td>9.600000</td>\n",
       "      <td>6.600000</td>\n",
       "    </tr>\n",
       "    <tr>\n",
       "      <th>max</th>\n",
       "      <td>30.370000</td>\n",
       "      <td>4.000000</td>\n",
       "      <td>67.000000</td>\n",
       "      <td>4.000000</td>\n",
       "      <td>26.800000</td>\n",
       "      <td>4.000000</td>\n",
       "      <td>18.000000</td>\n",
       "      <td>15.800000</td>\n",
       "    </tr>\n",
       "  </tbody>\n",
       "</table>\n",
       "</div>"
      ],
      "text/plain": [
       "              WIND          IND         RAIN        IND_1        T_MAX  \\\n",
       "count  6574.000000  6574.000000  6574.000000  6574.000000  6574.000000   \n",
       "mean      9.796834     0.391542     1.885169     0.356364    13.339123   \n",
       "std       4.977272     1.179092     4.030529     1.123303     4.653792   \n",
       "min       0.000000     0.000000     0.000000     0.000000    -0.100000   \n",
       "25%       6.000000     0.000000     0.000000     0.000000    10.000000   \n",
       "50%       9.210000     0.000000     0.200000     0.000000    13.339123   \n",
       "75%      12.960000     0.000000     2.000000     0.000000    16.800000   \n",
       "max      30.370000     4.000000    67.000000     4.000000    26.800000   \n",
       "\n",
       "             IND_2        T_MIN      T_MIN_G  \n",
       "count  6574.000000  6574.000000  6574.000000  \n",
       "mean      0.464456     6.411678     2.736547  \n",
       "std       1.172094     4.393061     5.414517  \n",
       "min       0.000000   -11.500000   -14.400000  \n",
       "25%       0.000000     3.500000    -0.900000  \n",
       "50%       0.000000     6.411678     2.736547  \n",
       "75%       0.000000     9.600000     6.600000  \n",
       "max       4.000000    18.000000    15.800000  "
      ]
     },
     "execution_count": 17,
     "metadata": {},
     "output_type": "execute_result"
    }
   ],
   "source": [
    "df.describe()"
   ]
  },
  {
   "cell_type": "code",
   "execution_count": 18,
   "metadata": {},
   "outputs": [
    {
     "data": {
      "text/html": [
       "<div>\n",
       "<style scoped>\n",
       "    .dataframe tbody tr th:only-of-type {\n",
       "        vertical-align: middle;\n",
       "    }\n",
       "\n",
       "    .dataframe tbody tr th {\n",
       "        vertical-align: top;\n",
       "    }\n",
       "\n",
       "    .dataframe thead th {\n",
       "        text-align: right;\n",
       "    }\n",
       "</style>\n",
       "<table border=\"1\" class=\"dataframe\">\n",
       "  <thead>\n",
       "    <tr style=\"text-align: right;\">\n",
       "      <th></th>\n",
       "      <th>WIND</th>\n",
       "      <th>IND</th>\n",
       "      <th>RAIN</th>\n",
       "      <th>IND_1</th>\n",
       "      <th>T_MAX</th>\n",
       "      <th>IND_2</th>\n",
       "      <th>T_MIN</th>\n",
       "      <th>T_MIN_G</th>\n",
       "    </tr>\n",
       "  </thead>\n",
       "  <tbody>\n",
       "    <tr>\n",
       "      <th>WIND</th>\n",
       "      <td>1.000000</td>\n",
       "      <td>-0.038578</td>\n",
       "      <td>0.120876</td>\n",
       "      <td>0.070227</td>\n",
       "      <td>-0.230302</td>\n",
       "      <td>0.047666</td>\n",
       "      <td>-0.087851</td>\n",
       "      <td>0.012424</td>\n",
       "    </tr>\n",
       "    <tr>\n",
       "      <th>IND</th>\n",
       "      <td>-0.038578</td>\n",
       "      <td>1.000000</td>\n",
       "      <td>-0.148535</td>\n",
       "      <td>-0.028102</td>\n",
       "      <td>-0.072581</td>\n",
       "      <td>-0.015133</td>\n",
       "      <td>-0.048302</td>\n",
       "      <td>-0.062288</td>\n",
       "    </tr>\n",
       "    <tr>\n",
       "      <th>RAIN</th>\n",
       "      <td>0.120876</td>\n",
       "      <td>-0.148535</td>\n",
       "      <td>1.000000</td>\n",
       "      <td>0.023653</td>\n",
       "      <td>-0.041087</td>\n",
       "      <td>0.012414</td>\n",
       "      <td>0.010255</td>\n",
       "      <td>0.026642</td>\n",
       "    </tr>\n",
       "    <tr>\n",
       "      <th>IND_1</th>\n",
       "      <td>0.070227</td>\n",
       "      <td>-0.028102</td>\n",
       "      <td>0.023653</td>\n",
       "      <td>1.000000</td>\n",
       "      <td>-0.005005</td>\n",
       "      <td>0.909739</td>\n",
       "      <td>-0.004963</td>\n",
       "      <td>-0.003979</td>\n",
       "    </tr>\n",
       "    <tr>\n",
       "      <th>T_MAX</th>\n",
       "      <td>-0.230302</td>\n",
       "      <td>-0.072581</td>\n",
       "      <td>-0.041087</td>\n",
       "      <td>-0.005005</td>\n",
       "      <td>1.000000</td>\n",
       "      <td>-0.097327</td>\n",
       "      <td>0.786002</td>\n",
       "      <td>0.635400</td>\n",
       "    </tr>\n",
       "    <tr>\n",
       "      <th>IND_2</th>\n",
       "      <td>0.047666</td>\n",
       "      <td>-0.015133</td>\n",
       "      <td>0.012414</td>\n",
       "      <td>0.909739</td>\n",
       "      <td>-0.097327</td>\n",
       "      <td>1.000000</td>\n",
       "      <td>-0.134761</td>\n",
       "      <td>-0.125334</td>\n",
       "    </tr>\n",
       "    <tr>\n",
       "      <th>T_MIN</th>\n",
       "      <td>-0.087851</td>\n",
       "      <td>-0.048302</td>\n",
       "      <td>0.010255</td>\n",
       "      <td>-0.004963</td>\n",
       "      <td>0.786002</td>\n",
       "      <td>-0.134761</td>\n",
       "      <td>1.000000</td>\n",
       "      <td>0.843865</td>\n",
       "    </tr>\n",
       "    <tr>\n",
       "      <th>T_MIN_G</th>\n",
       "      <td>0.012424</td>\n",
       "      <td>-0.062288</td>\n",
       "      <td>0.026642</td>\n",
       "      <td>-0.003979</td>\n",
       "      <td>0.635400</td>\n",
       "      <td>-0.125334</td>\n",
       "      <td>0.843865</td>\n",
       "      <td>1.000000</td>\n",
       "    </tr>\n",
       "  </tbody>\n",
       "</table>\n",
       "</div>"
      ],
      "text/plain": [
       "             WIND       IND      RAIN     IND_1     T_MAX     IND_2     T_MIN  \\\n",
       "WIND     1.000000 -0.038578  0.120876  0.070227 -0.230302  0.047666 -0.087851   \n",
       "IND     -0.038578  1.000000 -0.148535 -0.028102 -0.072581 -0.015133 -0.048302   \n",
       "RAIN     0.120876 -0.148535  1.000000  0.023653 -0.041087  0.012414  0.010255   \n",
       "IND_1    0.070227 -0.028102  0.023653  1.000000 -0.005005  0.909739 -0.004963   \n",
       "T_MAX   -0.230302 -0.072581 -0.041087 -0.005005  1.000000 -0.097327  0.786002   \n",
       "IND_2    0.047666 -0.015133  0.012414  0.909739 -0.097327  1.000000 -0.134761   \n",
       "T_MIN   -0.087851 -0.048302  0.010255 -0.004963  0.786002 -0.134761  1.000000   \n",
       "T_MIN_G  0.012424 -0.062288  0.026642 -0.003979  0.635400 -0.125334  0.843865   \n",
       "\n",
       "          T_MIN_G  \n",
       "WIND     0.012424  \n",
       "IND     -0.062288  \n",
       "RAIN     0.026642  \n",
       "IND_1   -0.003979  \n",
       "T_MAX    0.635400  \n",
       "IND_2   -0.125334  \n",
       "T_MIN    0.843865  \n",
       "T_MIN_G  1.000000  "
      ]
     },
     "execution_count": 18,
     "metadata": {},
     "output_type": "execute_result"
    }
   ],
   "source": [
    "df.corr()"
   ]
  },
  {
   "cell_type": "code",
   "execution_count": 19,
   "metadata": {},
   "outputs": [
    {
     "data": {
      "text/plain": [
       "WIND       0\n",
       "IND        0\n",
       "RAIN       0\n",
       "IND_1      0\n",
       "T_MAX      0\n",
       "IND_2      0\n",
       "T_MIN      0\n",
       "T_MIN_G    0\n",
       "dtype: int64"
      ]
     },
     "execution_count": 19,
     "metadata": {},
     "output_type": "execute_result"
    }
   ],
   "source": [
    "df.isnull().sum()"
   ]
  },
  {
   "cell_type": "code",
   "execution_count": 20,
   "metadata": {},
   "outputs": [
    {
     "data": {
      "text/plain": [
       "WIND        0.0\n",
       "IND         0.0\n",
       "RAIN        0.0\n",
       "IND_1       0.0\n",
       "T_MAX      -0.1\n",
       "IND_2       0.0\n",
       "T_MIN     -11.5\n",
       "T_MIN_G   -14.4\n",
       "dtype: float64"
      ]
     },
     "execution_count": 20,
     "metadata": {},
     "output_type": "execute_result"
    }
   ],
   "source": [
    "df.min()"
   ]
  },
  {
   "cell_type": "code",
   "execution_count": 21,
   "metadata": {},
   "outputs": [
    {
     "data": {
      "text/plain": [
       "WIND       30.37\n",
       "IND         4.00\n",
       "RAIN       67.00\n",
       "IND_1       4.00\n",
       "T_MAX      26.80\n",
       "IND_2       4.00\n",
       "T_MIN      18.00\n",
       "T_MIN_G    15.80\n",
       "dtype: float64"
      ]
     },
     "execution_count": 21,
     "metadata": {},
     "output_type": "execute_result"
    }
   ],
   "source": [
    "df.max()"
   ]
  },
  {
   "cell_type": "markdown",
   "id": "94d84e18",
   "metadata": {},
   "source": [
    "#### Missing Values\n",
    "\n",
    "<a class=\"anchor\" id=\"1.2\"></a>\n"
   ]
  },
  {
   "cell_type": "code",
   "execution_count": 22,
   "id": "562f343a",
   "metadata": {},
   "outputs": [
    {
     "name": "stdout",
     "output_type": "stream",
     "text": [
      "There is no Null Values\n"
     ]
    }
   ],
   "source": [
    "for feature in df:\n",
    "    if df[feature].isnull().sum()>1:\n",
    "        print(feature,\":\", np.round(df[feature].isnull().mean(),4),'%')\n",
    "    \n",
    "else:\n",
    "     print(\"There is no Null Values\")"
   ]
  },
  {
   "cell_type": "markdown",
   "id": "fd7747f6",
   "metadata": {},
   "source": [
    "#### Numerical Features\n",
    "\n",
    "<a class=\"anchor\" id=\"1.3\"></a>\n"
   ]
  },
  {
   "cell_type": "code",
   "execution_count": 23,
   "id": "db496019",
   "metadata": {},
   "outputs": [
    {
     "name": "stdout",
     "output_type": "stream",
     "text": [
      "The length of Numerical_values is : 8\n"
     ]
    },
    {
     "data": {
      "text/html": [
       "<div>\n",
       "<style scoped>\n",
       "    .dataframe tbody tr th:only-of-type {\n",
       "        vertical-align: middle;\n",
       "    }\n",
       "\n",
       "    .dataframe tbody tr th {\n",
       "        vertical-align: top;\n",
       "    }\n",
       "\n",
       "    .dataframe thead th {\n",
       "        text-align: right;\n",
       "    }\n",
       "</style>\n",
       "<table border=\"1\" class=\"dataframe\">\n",
       "  <thead>\n",
       "    <tr style=\"text-align: right;\">\n",
       "      <th></th>\n",
       "      <th>WIND</th>\n",
       "      <th>IND</th>\n",
       "      <th>RAIN</th>\n",
       "      <th>IND_1</th>\n",
       "      <th>T_MAX</th>\n",
       "      <th>IND_2</th>\n",
       "      <th>T_MIN</th>\n",
       "      <th>T_MIN_G</th>\n",
       "    </tr>\n",
       "  </thead>\n",
       "  <tbody>\n",
       "    <tr>\n",
       "      <th>0</th>\n",
       "      <td>13.67</td>\n",
       "      <td>0</td>\n",
       "      <td>0.2</td>\n",
       "      <td>0.0</td>\n",
       "      <td>9.5</td>\n",
       "      <td>0.0</td>\n",
       "      <td>3.7</td>\n",
       "      <td>-1.0</td>\n",
       "    </tr>\n",
       "    <tr>\n",
       "      <th>1</th>\n",
       "      <td>11.50</td>\n",
       "      <td>0</td>\n",
       "      <td>5.1</td>\n",
       "      <td>0.0</td>\n",
       "      <td>7.2</td>\n",
       "      <td>0.0</td>\n",
       "      <td>4.2</td>\n",
       "      <td>1.1</td>\n",
       "    </tr>\n",
       "    <tr>\n",
       "      <th>2</th>\n",
       "      <td>11.25</td>\n",
       "      <td>0</td>\n",
       "      <td>0.4</td>\n",
       "      <td>0.0</td>\n",
       "      <td>5.5</td>\n",
       "      <td>0.0</td>\n",
       "      <td>0.5</td>\n",
       "      <td>-0.5</td>\n",
       "    </tr>\n",
       "    <tr>\n",
       "      <th>3</th>\n",
       "      <td>8.63</td>\n",
       "      <td>0</td>\n",
       "      <td>0.2</td>\n",
       "      <td>0.0</td>\n",
       "      <td>5.6</td>\n",
       "      <td>0.0</td>\n",
       "      <td>0.4</td>\n",
       "      <td>-3.2</td>\n",
       "    </tr>\n",
       "    <tr>\n",
       "      <th>4</th>\n",
       "      <td>11.92</td>\n",
       "      <td>0</td>\n",
       "      <td>10.4</td>\n",
       "      <td>0.0</td>\n",
       "      <td>7.2</td>\n",
       "      <td>1.0</td>\n",
       "      <td>-1.5</td>\n",
       "      <td>-7.5</td>\n",
       "    </tr>\n",
       "  </tbody>\n",
       "</table>\n",
       "</div>"
      ],
      "text/plain": [
       "    WIND  IND  RAIN  IND_1  T_MAX  IND_2  T_MIN  T_MIN_G\n",
       "0  13.67    0   0.2    0.0    9.5    0.0    3.7     -1.0\n",
       "1  11.50    0   5.1    0.0    7.2    0.0    4.2      1.1\n",
       "2  11.25    0   0.4    0.0    5.5    0.0    0.5     -0.5\n",
       "3   8.63    0   0.2    0.0    5.6    0.0    0.4     -3.2\n",
       "4  11.92    0  10.4    0.0    7.2    1.0   -1.5     -7.5"
      ]
     },
     "execution_count": 23,
     "metadata": {},
     "output_type": "execute_result"
    }
   ],
   "source": [
    "numerical_features = [feature for feature in df.columns if df[feature].dtypes != 'O']\n",
    "print(\"The length of Numerical_values is :\",len(numerical_features))\n",
    "df[numerical_features].head()"
   ]
  },
  {
   "cell_type": "markdown",
   "id": "8b3ed265",
   "metadata": {},
   "source": [
    "#### Discrete Features \n",
    "\n",
    "<a class=\"anchor\" id=\"1.4\"></a>\n"
   ]
  },
  {
   "cell_type": "code",
   "execution_count": 24,
   "id": "79770ea4",
   "metadata": {},
   "outputs": [
    {
     "name": "stdout",
     "output_type": "stream",
     "text": [
      "The Discrete feature is : 3\n"
     ]
    },
    {
     "data": {
      "text/plain": [
       "['IND', 'IND_1', 'IND_2']"
      ]
     },
     "execution_count": 24,
     "metadata": {},
     "output_type": "execute_result"
    }
   ],
   "source": [
    "discrete_Feature = [feature for feature in numerical_features if len(df[feature].unique())<25]\n",
    "\n",
    "print(\"The Discrete feature is :\",len(discrete_Feature))\n",
    "discrete_Feature"
   ]
  },
  {
   "cell_type": "markdown",
   "id": "7ed5f9a0",
   "metadata": {},
   "source": [
    "#### Continuous Features\n",
    "\n",
    "<a class=\"anchor\" id=\"1.5\"></a>\n"
   ]
  },
  {
   "cell_type": "code",
   "execution_count": 25,
   "id": "463e6c79",
   "metadata": {},
   "outputs": [
    {
     "name": "stdout",
     "output_type": "stream",
     "text": [
      "The Continous feature is : 5\n"
     ]
    },
    {
     "data": {
      "text/plain": [
       "['WIND', 'RAIN', 'T_MAX', 'T_MIN', 'T_MIN_G']"
      ]
     },
     "execution_count": 25,
     "metadata": {},
     "output_type": "execute_result"
    }
   ],
   "source": [
    "continous_Feature = [feature for feature in numerical_features if feature not in discrete_Feature]\n",
    "\n",
    "print(\"The Continous feature is :\",len(continous_Feature))\n",
    "continous_Feature"
   ]
  },
  {
   "cell_type": "code",
   "execution_count": 26,
   "id": "83cf1a75",
   "metadata": {},
   "outputs": [
    {
     "data": {
      "text/html": [
       "<div>\n",
       "<style scoped>\n",
       "    .dataframe tbody tr th:only-of-type {\n",
       "        vertical-align: middle;\n",
       "    }\n",
       "\n",
       "    .dataframe tbody tr th {\n",
       "        vertical-align: top;\n",
       "    }\n",
       "\n",
       "    .dataframe thead th {\n",
       "        text-align: right;\n",
       "    }\n",
       "</style>\n",
       "<table border=\"1\" class=\"dataframe\">\n",
       "  <thead>\n",
       "    <tr style=\"text-align: right;\">\n",
       "      <th></th>\n",
       "      <th>WIND</th>\n",
       "      <th>RAIN</th>\n",
       "      <th>T_MAX</th>\n",
       "      <th>T_MIN</th>\n",
       "      <th>T_MIN_G</th>\n",
       "    </tr>\n",
       "  </thead>\n",
       "  <tbody>\n",
       "    <tr>\n",
       "      <th>0</th>\n",
       "      <td>13.67</td>\n",
       "      <td>0.2</td>\n",
       "      <td>9.5</td>\n",
       "      <td>3.7</td>\n",
       "      <td>-1.0</td>\n",
       "    </tr>\n",
       "    <tr>\n",
       "      <th>1</th>\n",
       "      <td>11.50</td>\n",
       "      <td>5.1</td>\n",
       "      <td>7.2</td>\n",
       "      <td>4.2</td>\n",
       "      <td>1.1</td>\n",
       "    </tr>\n",
       "    <tr>\n",
       "      <th>2</th>\n",
       "      <td>11.25</td>\n",
       "      <td>0.4</td>\n",
       "      <td>5.5</td>\n",
       "      <td>0.5</td>\n",
       "      <td>-0.5</td>\n",
       "    </tr>\n",
       "    <tr>\n",
       "      <th>3</th>\n",
       "      <td>8.63</td>\n",
       "      <td>0.2</td>\n",
       "      <td>5.6</td>\n",
       "      <td>0.4</td>\n",
       "      <td>-3.2</td>\n",
       "    </tr>\n",
       "    <tr>\n",
       "      <th>4</th>\n",
       "      <td>11.92</td>\n",
       "      <td>10.4</td>\n",
       "      <td>7.2</td>\n",
       "      <td>-1.5</td>\n",
       "      <td>-7.5</td>\n",
       "    </tr>\n",
       "  </tbody>\n",
       "</table>\n",
       "</div>"
      ],
      "text/plain": [
       "    WIND  RAIN  T_MAX  T_MIN  T_MIN_G\n",
       "0  13.67   0.2    9.5    3.7     -1.0\n",
       "1  11.50   5.1    7.2    4.2      1.1\n",
       "2  11.25   0.4    5.5    0.5     -0.5\n",
       "3   8.63   0.2    5.6    0.4     -3.2\n",
       "4  11.92  10.4    7.2   -1.5     -7.5"
      ]
     },
     "execution_count": 26,
     "metadata": {},
     "output_type": "execute_result"
    }
   ],
   "source": [
    "df[continous_Feature].head()"
   ]
  },
  {
   "cell_type": "markdown",
   "id": "e6a5abd2",
   "metadata": {},
   "source": [
    "#### Categorical Features\n",
    "\n",
    "<a class=\"anchor\" id=\"1.6\"></a>\n"
   ]
  },
  {
   "cell_type": "code",
   "execution_count": 27,
   "id": "4b677bf7",
   "metadata": {},
   "outputs": [
    {
     "name": "stdout",
     "output_type": "stream",
     "text": [
      "0\n"
     ]
    },
    {
     "data": {
      "text/plain": [
       "[]"
      ]
     },
     "execution_count": 27,
     "metadata": {},
     "output_type": "execute_result"
    }
   ],
   "source": [
    "categorical_feature = [feature for feature in df.columns if df[feature].dtypes ==\"O\"]\n",
    "print(len(categorical_feature))\n",
    "categorical_feature"
   ]
  },
  {
   "cell_type": "code",
   "execution_count": 28,
   "id": "e86b73d5",
   "metadata": {},
   "outputs": [
    {
     "data": {
      "text/html": [
       "<div>\n",
       "<style scoped>\n",
       "    .dataframe tbody tr th:only-of-type {\n",
       "        vertical-align: middle;\n",
       "    }\n",
       "\n",
       "    .dataframe tbody tr th {\n",
       "        vertical-align: top;\n",
       "    }\n",
       "\n",
       "    .dataframe thead th {\n",
       "        text-align: right;\n",
       "    }\n",
       "</style>\n",
       "<table border=\"1\" class=\"dataframe\">\n",
       "  <thead>\n",
       "    <tr style=\"text-align: right;\">\n",
       "      <th></th>\n",
       "    </tr>\n",
       "  </thead>\n",
       "  <tbody>\n",
       "    <tr>\n",
       "      <th>0</th>\n",
       "    </tr>\n",
       "    <tr>\n",
       "      <th>1</th>\n",
       "    </tr>\n",
       "    <tr>\n",
       "      <th>2</th>\n",
       "    </tr>\n",
       "    <tr>\n",
       "      <th>3</th>\n",
       "    </tr>\n",
       "    <tr>\n",
       "      <th>4</th>\n",
       "    </tr>\n",
       "  </tbody>\n",
       "</table>\n",
       "</div>"
      ],
      "text/plain": [
       "Empty DataFrame\n",
       "Columns: []\n",
       "Index: [0, 1, 2, 3, 4]"
      ]
     },
     "execution_count": 28,
     "metadata": {},
     "output_type": "execute_result"
    }
   ],
   "source": [
    "df[categorical_feature].head()"
   ]
  },
  {
   "cell_type": "markdown",
   "metadata": {},
   "source": [
    "---"
   ]
  },
  {
   "cell_type": "markdown",
   "metadata": {},
   "source": [
    "### <span style=\"color:cyan\">Step: 02</span>: Data Engineering\n",
    "\n",
    "<a class=\"anchor\" id=\"2\"></a>"
   ]
  },
  {
   "cell_type": "markdown",
   "metadata": {},
   "source": [
    "#### <span style=\"color:blue\">**Exploratory Data Analysis. (EDA)**</span>\n",
    "\n",
    "\n",
    "<a class=\"anchor\" id=\"2.1\"></a>"
   ]
  },
  {
   "cell_type": "code",
   "execution_count": 29,
   "metadata": {},
   "outputs": [
    {
     "data": {
      "text/html": [
       "<div>\n",
       "<style scoped>\n",
       "    .dataframe tbody tr th:only-of-type {\n",
       "        vertical-align: middle;\n",
       "    }\n",
       "\n",
       "    .dataframe tbody tr th {\n",
       "        vertical-align: top;\n",
       "    }\n",
       "\n",
       "    .dataframe thead th {\n",
       "        text-align: right;\n",
       "    }\n",
       "</style>\n",
       "<table border=\"1\" class=\"dataframe\">\n",
       "  <thead>\n",
       "    <tr style=\"text-align: right;\">\n",
       "      <th></th>\n",
       "      <th>WIND</th>\n",
       "      <th>IND</th>\n",
       "      <th>RAIN</th>\n",
       "      <th>IND_1</th>\n",
       "      <th>T_MAX</th>\n",
       "      <th>IND_2</th>\n",
       "      <th>T_MIN</th>\n",
       "      <th>T_MIN_G</th>\n",
       "    </tr>\n",
       "  </thead>\n",
       "  <tbody>\n",
       "    <tr>\n",
       "      <th>WIND</th>\n",
       "      <td>1.000000</td>\n",
       "      <td>-0.038578</td>\n",
       "      <td>0.120876</td>\n",
       "      <td>0.070227</td>\n",
       "      <td>-0.230302</td>\n",
       "      <td>0.047666</td>\n",
       "      <td>-0.087851</td>\n",
       "      <td>0.012424</td>\n",
       "    </tr>\n",
       "    <tr>\n",
       "      <th>IND</th>\n",
       "      <td>-0.038578</td>\n",
       "      <td>1.000000</td>\n",
       "      <td>-0.148535</td>\n",
       "      <td>-0.028102</td>\n",
       "      <td>-0.072581</td>\n",
       "      <td>-0.015133</td>\n",
       "      <td>-0.048302</td>\n",
       "      <td>-0.062288</td>\n",
       "    </tr>\n",
       "    <tr>\n",
       "      <th>RAIN</th>\n",
       "      <td>0.120876</td>\n",
       "      <td>-0.148535</td>\n",
       "      <td>1.000000</td>\n",
       "      <td>0.023653</td>\n",
       "      <td>-0.041087</td>\n",
       "      <td>0.012414</td>\n",
       "      <td>0.010255</td>\n",
       "      <td>0.026642</td>\n",
       "    </tr>\n",
       "    <tr>\n",
       "      <th>IND_1</th>\n",
       "      <td>0.070227</td>\n",
       "      <td>-0.028102</td>\n",
       "      <td>0.023653</td>\n",
       "      <td>1.000000</td>\n",
       "      <td>-0.005005</td>\n",
       "      <td>0.909739</td>\n",
       "      <td>-0.004963</td>\n",
       "      <td>-0.003979</td>\n",
       "    </tr>\n",
       "    <tr>\n",
       "      <th>T_MAX</th>\n",
       "      <td>-0.230302</td>\n",
       "      <td>-0.072581</td>\n",
       "      <td>-0.041087</td>\n",
       "      <td>-0.005005</td>\n",
       "      <td>1.000000</td>\n",
       "      <td>-0.097327</td>\n",
       "      <td>0.786002</td>\n",
       "      <td>0.635400</td>\n",
       "    </tr>\n",
       "    <tr>\n",
       "      <th>IND_2</th>\n",
       "      <td>0.047666</td>\n",
       "      <td>-0.015133</td>\n",
       "      <td>0.012414</td>\n",
       "      <td>0.909739</td>\n",
       "      <td>-0.097327</td>\n",
       "      <td>1.000000</td>\n",
       "      <td>-0.134761</td>\n",
       "      <td>-0.125334</td>\n",
       "    </tr>\n",
       "    <tr>\n",
       "      <th>T_MIN</th>\n",
       "      <td>-0.087851</td>\n",
       "      <td>-0.048302</td>\n",
       "      <td>0.010255</td>\n",
       "      <td>-0.004963</td>\n",
       "      <td>0.786002</td>\n",
       "      <td>-0.134761</td>\n",
       "      <td>1.000000</td>\n",
       "      <td>0.843865</td>\n",
       "    </tr>\n",
       "    <tr>\n",
       "      <th>T_MIN_G</th>\n",
       "      <td>0.012424</td>\n",
       "      <td>-0.062288</td>\n",
       "      <td>0.026642</td>\n",
       "      <td>-0.003979</td>\n",
       "      <td>0.635400</td>\n",
       "      <td>-0.125334</td>\n",
       "      <td>0.843865</td>\n",
       "      <td>1.000000</td>\n",
       "    </tr>\n",
       "  </tbody>\n",
       "</table>\n",
       "</div>"
      ],
      "text/plain": [
       "             WIND       IND      RAIN     IND_1     T_MAX     IND_2     T_MIN  \\\n",
       "WIND     1.000000 -0.038578  0.120876  0.070227 -0.230302  0.047666 -0.087851   \n",
       "IND     -0.038578  1.000000 -0.148535 -0.028102 -0.072581 -0.015133 -0.048302   \n",
       "RAIN     0.120876 -0.148535  1.000000  0.023653 -0.041087  0.012414  0.010255   \n",
       "IND_1    0.070227 -0.028102  0.023653  1.000000 -0.005005  0.909739 -0.004963   \n",
       "T_MAX   -0.230302 -0.072581 -0.041087 -0.005005  1.000000 -0.097327  0.786002   \n",
       "IND_2    0.047666 -0.015133  0.012414  0.909739 -0.097327  1.000000 -0.134761   \n",
       "T_MIN   -0.087851 -0.048302  0.010255 -0.004963  0.786002 -0.134761  1.000000   \n",
       "T_MIN_G  0.012424 -0.062288  0.026642 -0.003979  0.635400 -0.125334  0.843865   \n",
       "\n",
       "          T_MIN_G  \n",
       "WIND     0.012424  \n",
       "IND     -0.062288  \n",
       "RAIN     0.026642  \n",
       "IND_1   -0.003979  \n",
       "T_MAX    0.635400  \n",
       "IND_2   -0.125334  \n",
       "T_MIN    0.843865  \n",
       "T_MIN_G  1.000000  "
      ]
     },
     "execution_count": 29,
     "metadata": {},
     "output_type": "execute_result"
    }
   ],
   "source": [
    "df.corr()"
   ]
  },
  {
   "cell_type": "code",
   "execution_count": 30,
   "metadata": {},
   "outputs": [
    {
     "data": {
      "text/plain": [
       "<AxesSubplot:>"
      ]
     },
     "execution_count": 30,
     "metadata": {},
     "output_type": "execute_result"
    },
    {
     "data": {
      "image/png": "[encoded data removed]",
      "text/plain": [
       "<Figure size 1152x504 with 2 Axes>"
      ]
     },
     "metadata": {
      "needs_background": "light"
     },
     "output_type": "display_data"
    }
   ],
   "source": [
    "plt.figure(figsize=(16,7))\n",
    "sns.heatmap(df.corr())"
   ]
  },
  {
   "cell_type": "code",
   "execution_count": 31,
   "metadata": {},
   "outputs": [
    {
     "data": {
      "text/plain": [
       "<AxesSubplot:>"
      ]
     },
     "execution_count": 31,
     "metadata": {},
     "output_type": "execute_result"
    },
    {
     "data": {
      "image/png": "[encoded data removed]",
      "text/plain": [
       "<Figure size 1296x576 with 2 Axes>"
      ]
     },
     "metadata": {
      "needs_background": "light"
     },
     "output_type": "display_data"
    }
   ],
   "source": [
    "plt.figure(figsize=(18,8))\n",
    "sns.heatmap(df.corr(), annot=True)"
   ]
  },
  {
   "cell_type": "markdown",
   "metadata": {},
   "source": [
    "***"
   ]
  },
  {
   "cell_type": "markdown",
   "metadata": {},
   "source": [
    "##### Before Normalization with (Plotting)\n",
    "\n",
    "<a class=\"anchor\" id=\"2.1.1\"></a>"
   ]
  },
  {
   "cell_type": "code",
   "execution_count": 32,
   "metadata": {},
   "outputs": [
    {
     "name": "stderr",
     "output_type": "stream",
     "text": [
      "C:\\Users\\fahad\\AppData\\Local\\Packages\\PythonSoftwareFoundation.Python.3.9_qbz5n2kfra8p0\\LocalCache\\local-packages\\Python39\\site-packages\\seaborn\\distributions.py:2619: FutureWarning: `distplot` is a deprecated function and will be removed in a future version. Please adapt your code to use either `displot` (a figure-level function with similar flexibility) or `histplot` (an axes-level function for histograms).\n",
      "  warnings.warn(msg, FutureWarning)\n"
     ]
    },
    {
     "data": {
      "image/png": "[encoded data removed]",
      "text/plain": [
       "<Figure size 1008x288 with 2 Axes>"
      ]
     },
     "metadata": {
      "needs_background": "light"
     },
     "output_type": "display_data"
    },
    {
     "name": "stderr",
     "output_type": "stream",
     "text": [
      "C:\\Users\\fahad\\AppData\\Local\\Packages\\PythonSoftwareFoundation.Python.3.9_qbz5n2kfra8p0\\LocalCache\\local-packages\\Python39\\site-packages\\seaborn\\distributions.py:2619: FutureWarning: `distplot` is a deprecated function and will be removed in a future version. Please adapt your code to use either `displot` (a figure-level function with similar flexibility) or `histplot` (an axes-level function for histograms).\n",
      "  warnings.warn(msg, FutureWarning)\n"
     ]
    },
    {
     "data": {
      "image/png": "[encoded data removed]",
      "text/plain": [
       "<Figure size 1008x288 with 2 Axes>"
      ]
     },
     "metadata": {
      "needs_background": "light"
     },
     "output_type": "display_data"
    },
    {
     "name": "stderr",
     "output_type": "stream",
     "text": [
      "C:\\Users\\fahad\\AppData\\Local\\Packages\\PythonSoftwareFoundation.Python.3.9_qbz5n2kfra8p0\\LocalCache\\local-packages\\Python39\\site-packages\\seaborn\\distributions.py:2619: FutureWarning: `distplot` is a deprecated function and will be removed in a future version. Please adapt your code to use either `displot` (a figure-level function with similar flexibility) or `histplot` (an axes-level function for histograms).\n",
      "  warnings.warn(msg, FutureWarning)\n"
     ]
    },
    {
     "data": {
      "image/png": "[encoded data removed]",
      "text/plain": [
       "<Figure size 1008x288 with 2 Axes>"
      ]
     },
     "metadata": {
      "needs_background": "light"
     },
     "output_type": "display_data"
    },
    {
     "name": "stderr",
     "output_type": "stream",
     "text": [
      "C:\\Users\\fahad\\AppData\\Local\\Packages\\PythonSoftwareFoundation.Python.3.9_qbz5n2kfra8p0\\LocalCache\\local-packages\\Python39\\site-packages\\seaborn\\distributions.py:2619: FutureWarning: `distplot` is a deprecated function and will be removed in a future version. Please adapt your code to use either `displot` (a figure-level function with similar flexibility) or `histplot` (an axes-level function for histograms).\n",
      "  warnings.warn(msg, FutureWarning)\n"
     ]
    },
    {
     "data": {
      "image/png": "[encoded data removed]",
      "text/plain": [
       "<Figure size 1008x288 with 2 Axes>"
      ]
     },
     "metadata": {
      "needs_background": "light"
     },
     "output_type": "display_data"
    },
    {
     "name": "stderr",
     "output_type": "stream",
     "text": [
      "C:\\Users\\fahad\\AppData\\Local\\Packages\\PythonSoftwareFoundation.Python.3.9_qbz5n2kfra8p0\\LocalCache\\local-packages\\Python39\\site-packages\\seaborn\\distributions.py:2619: FutureWarning: `distplot` is a deprecated function and will be removed in a future version. Please adapt your code to use either `displot` (a figure-level function with similar flexibility) or `histplot` (an axes-level function for histograms).\n",
      "  warnings.warn(msg, FutureWarning)\n"
     ]
    },
    {
     "data": {
      "image/png": "[encoded data removed]",
      "text/plain": [
       "<Figure size 1008x288 with 2 Axes>"
      ]
     },
     "metadata": {
      "needs_background": "light"
     },
     "output_type": "display_data"
    },
    {
     "name": "stderr",
     "output_type": "stream",
     "text": [
      "C:\\Users\\fahad\\AppData\\Local\\Packages\\PythonSoftwareFoundation.Python.3.9_qbz5n2kfra8p0\\LocalCache\\local-packages\\Python39\\site-packages\\seaborn\\distributions.py:2619: FutureWarning: `distplot` is a deprecated function and will be removed in a future version. Please adapt your code to use either `displot` (a figure-level function with similar flexibility) or `histplot` (an axes-level function for histograms).\n",
      "  warnings.warn(msg, FutureWarning)\n"
     ]
    },
    {
     "data": {
      "image/png": "[encoded data removed]",
      "text/plain": [
       "<Figure size 1008x288 with 2 Axes>"
      ]
     },
     "metadata": {
      "needs_background": "light"
     },
     "output_type": "display_data"
    },
    {
     "name": "stderr",
     "output_type": "stream",
     "text": [
      "C:\\Users\\fahad\\AppData\\Local\\Packages\\PythonSoftwareFoundation.Python.3.9_qbz5n2kfra8p0\\LocalCache\\local-packages\\Python39\\site-packages\\seaborn\\distributions.py:2619: FutureWarning: `distplot` is a deprecated function and will be removed in a future version. Please adapt your code to use either `displot` (a figure-level function with similar flexibility) or `histplot` (an axes-level function for histograms).\n",
      "  warnings.warn(msg, FutureWarning)\n"
     ]
    },
    {
     "data": {
      "image/png": "[encoded data removed]",
      "text/plain": [
       "<Figure size 1008x288 with 2 Axes>"
      ]
     },
     "metadata": {
      "needs_background": "light"
     },
     "output_type": "display_data"
    },
    {
     "name": "stderr",
     "output_type": "stream",
     "text": [
      "C:\\Users\\fahad\\AppData\\Local\\Packages\\PythonSoftwareFoundation.Python.3.9_qbz5n2kfra8p0\\LocalCache\\local-packages\\Python39\\site-packages\\seaborn\\distributions.py:2619: FutureWarning: `distplot` is a deprecated function and will be removed in a future version. Please adapt your code to use either `displot` (a figure-level function with similar flexibility) or `histplot` (an axes-level function for histograms).\n",
      "  warnings.warn(msg, FutureWarning)\n"
     ]
    },
    {
     "data": {
      "image/png": "[encoded data removed]",
      "text/plain": [
       "<Figure size 1008x288 with 2 Axes>"
      ]
     },
     "metadata": {
      "needs_background": "light"
     },
     "output_type": "display_data"
    }
   ],
   "source": [
    "# Plotting the distplots without any transformation\n",
    "\n",
    "for col in df:\n",
    "    plt.figure(figsize=(14,4))\n",
    "    plt.subplot(121)\n",
    "    sns.distplot(df[col])\n",
    "    plt.title(col)\n",
    "\n",
    "    plt.subplot(122)\n",
    "    stats.probplot(df[col], dist=\"norm\", plot=plt)\n",
    "    plt.title(col)\n",
    "\n",
    "    plt.show()"
   ]
  },
  {
   "cell_type": "code",
   "execution_count": 33,
   "metadata": {},
   "outputs": [
    {
     "data": {
      "text/plain": [
       "Index(['WIND', 'IND', 'RAIN', 'IND_1', 'T_MAX', 'IND_2', 'T_MIN', 'T_MIN_G'], dtype='object')"
      ]
     },
     "execution_count": 33,
     "metadata": {},
     "output_type": "execute_result"
    }
   ],
   "source": [
    "df.columns"
   ]
  },
  {
   "cell_type": "markdown",
   "metadata": {},
   "source": [
    "##### Apply Yeo-Johnson transform\n",
    "\n",
    "<a class=\"anchor\" id=\"2.1.2\"></a>"
   ]
  },
  {
   "cell_type": "code",
   "execution_count": 34,
   "metadata": {},
   "outputs": [],
   "source": [
    "features_normalize =[n for n in df.columns if n in ['T_MAX', 'T_MIN', 'T_MIN_G']]\n",
    "pt = PowerTransformer()\n",
    "df[features_normalize] = pt.fit_transform(df[features_normalize]+0.00001)"
   ]
  },
  {
   "cell_type": "code",
   "execution_count": 35,
   "metadata": {},
   "outputs": [
    {
     "data": {
      "text/html": [
       "<div>\n",
       "<style scoped>\n",
       "    .dataframe tbody tr th:only-of-type {\n",
       "        vertical-align: middle;\n",
       "    }\n",
       "\n",
       "    .dataframe tbody tr th {\n",
       "        vertical-align: top;\n",
       "    }\n",
       "\n",
       "    .dataframe thead th {\n",
       "        text-align: right;\n",
       "    }\n",
       "</style>\n",
       "<table border=\"1\" class=\"dataframe\">\n",
       "  <thead>\n",
       "    <tr style=\"text-align: right;\">\n",
       "      <th></th>\n",
       "      <th>cols</th>\n",
       "      <th>Yeo_Johnson_lambdas</th>\n",
       "    </tr>\n",
       "  </thead>\n",
       "  <tbody>\n",
       "    <tr>\n",
       "      <th>0</th>\n",
       "      <td>T_MAX</td>\n",
       "      <td>0.961163</td>\n",
       "    </tr>\n",
       "    <tr>\n",
       "      <th>1</th>\n",
       "      <td>T_MIN</td>\n",
       "      <td>1.051216</td>\n",
       "    </tr>\n",
       "    <tr>\n",
       "      <th>2</th>\n",
       "      <td>T_MIN_G</td>\n",
       "      <td>1.043389</td>\n",
       "    </tr>\n",
       "  </tbody>\n",
       "</table>\n",
       "</div>"
      ],
      "text/plain": [
       "      cols  Yeo_Johnson_lambdas\n",
       "0    T_MAX             0.961163\n",
       "1    T_MIN             1.051216\n",
       "2  T_MIN_G             1.043389"
      ]
     },
     "execution_count": 35,
     "metadata": {},
     "output_type": "execute_result"
    }
   ],
   "source": [
    "df[features_normalize] = pd.DataFrame(df[features_normalize])\n",
    "pd.DataFrame({'cols':df[features_normalize].columns,'Yeo_Johnson_lambdas':pt.lambdas_})"
   ]
  },
  {
   "cell_type": "markdown",
   "metadata": {},
   "source": [
    "##### After Normalization with (Plotting)\n",
    "\n",
    "<a class=\"anchor\" id=\"2.1.3\"></a>"
   ]
  },
  {
   "cell_type": "code",
   "execution_count": 36,
   "metadata": {},
   "outputs": [
    {
     "name": "stderr",
     "output_type": "stream",
     "text": [
      "C:\\Users\\fahad\\AppData\\Local\\Packages\\PythonSoftwareFoundation.Python.3.9_qbz5n2kfra8p0\\LocalCache\\local-packages\\Python39\\site-packages\\seaborn\\distributions.py:2619: FutureWarning: `distplot` is a deprecated function and will be removed in a future version. Please adapt your code to use either `displot` (a figure-level function with similar flexibility) or `histplot` (an axes-level function for histograms).\n",
      "  warnings.warn(msg, FutureWarning)\n"
     ]
    },
    {
     "data": {
      "image/png": "[encoded data removed]",
      "text/plain": [
       "<Figure size 1008x288 with 2 Axes>"
      ]
     },
     "metadata": {
      "needs_background": "light"
     },
     "output_type": "display_data"
    },
    {
     "name": "stderr",
     "output_type": "stream",
     "text": [
      "C:\\Users\\fahad\\AppData\\Local\\Packages\\PythonSoftwareFoundation.Python.3.9_qbz5n2kfra8p0\\LocalCache\\local-packages\\Python39\\site-packages\\seaborn\\distributions.py:2619: FutureWarning: `distplot` is a deprecated function and will be removed in a future version. Please adapt your code to use either `displot` (a figure-level function with similar flexibility) or `histplot` (an axes-level function for histograms).\n",
      "  warnings.warn(msg, FutureWarning)\n"
     ]
    },
    {
     "data": {
      "image/png": "[encoded data removed]",
      "text/plain": [
       "<Figure size 1008x288 with 2 Axes>"
      ]
     },
     "metadata": {
      "needs_background": "light"
     },
     "output_type": "display_data"
    },
    {
     "name": "stderr",
     "output_type": "stream",
     "text": [
      "C:\\Users\\fahad\\AppData\\Local\\Packages\\PythonSoftwareFoundation.Python.3.9_qbz5n2kfra8p0\\LocalCache\\local-packages\\Python39\\site-packages\\seaborn\\distributions.py:2619: FutureWarning: `distplot` is a deprecated function and will be removed in a future version. Please adapt your code to use either `displot` (a figure-level function with similar flexibility) or `histplot` (an axes-level function for histograms).\n",
      "  warnings.warn(msg, FutureWarning)\n"
     ]
    },
    {
     "data": {
      "image/png": "[encoded data removed]",
      "text/plain": [
       "<Figure size 1008x288 with 2 Axes>"
      ]
     },
     "metadata": {
      "needs_background": "light"
     },
     "output_type": "display_data"
    },
    {
     "name": "stderr",
     "output_type": "stream",
     "text": [
      "C:\\Users\\fahad\\AppData\\Local\\Packages\\PythonSoftwareFoundation.Python.3.9_qbz5n2kfra8p0\\LocalCache\\local-packages\\Python39\\site-packages\\seaborn\\distributions.py:2619: FutureWarning: `distplot` is a deprecated function and will be removed in a future version. Please adapt your code to use either `displot` (a figure-level function with similar flexibility) or `histplot` (an axes-level function for histograms).\n",
      "  warnings.warn(msg, FutureWarning)\n"
     ]
    },
    {
     "data": {
      "image/png": "[encoded data removed]",
      "text/plain": [
       "<Figure size 1008x288 with 2 Axes>"
      ]
     },
     "metadata": {
      "needs_background": "light"
     },
     "output_type": "display_data"
    },
    {
     "name": "stderr",
     "output_type": "stream",
     "text": [
      "C:\\Users\\fahad\\AppData\\Local\\Packages\\PythonSoftwareFoundation.Python.3.9_qbz5n2kfra8p0\\LocalCache\\local-packages\\Python39\\site-packages\\seaborn\\distributions.py:2619: FutureWarning: `distplot` is a deprecated function and will be removed in a future version. Please adapt your code to use either `displot` (a figure-level function with similar flexibility) or `histplot` (an axes-level function for histograms).\n",
      "  warnings.warn(msg, FutureWarning)\n"
     ]
    },
    {
     "data": {
      "image/png": "[encoded data removed]",
      "text/plain": [
       "<Figure size 1008x288 with 2 Axes>"
      ]
     },
     "metadata": {
      "needs_background": "light"
     },
     "output_type": "display_data"
    },
    {
     "name": "stderr",
     "output_type": "stream",
     "text": [
      "C:\\Users\\fahad\\AppData\\Local\\Packages\\PythonSoftwareFoundation.Python.3.9_qbz5n2kfra8p0\\LocalCache\\local-packages\\Python39\\site-packages\\seaborn\\distributions.py:2619: FutureWarning: `distplot` is a deprecated function and will be removed in a future version. Please adapt your code to use either `displot` (a figure-level function with similar flexibility) or `histplot` (an axes-level function for histograms).\n",
      "  warnings.warn(msg, FutureWarning)\n"
     ]
    },
    {
     "data": {
      "image/png": "[encoded data removed]",
      "text/plain": [
       "<Figure size 1008x288 with 2 Axes>"
      ]
     },
     "metadata": {
      "needs_background": "light"
     },
     "output_type": "display_data"
    },
    {
     "name": "stderr",
     "output_type": "stream",
     "text": [
      "C:\\Users\\fahad\\AppData\\Local\\Packages\\PythonSoftwareFoundation.Python.3.9_qbz5n2kfra8p0\\LocalCache\\local-packages\\Python39\\site-packages\\seaborn\\distributions.py:2619: FutureWarning: `distplot` is a deprecated function and will be removed in a future version. Please adapt your code to use either `displot` (a figure-level function with similar flexibility) or `histplot` (an axes-level function for histograms).\n",
      "  warnings.warn(msg, FutureWarning)\n"
     ]
    },
    {
     "data": {
      "image/png": "[encoded data removed]",
      "text/plain": [
       "<Figure size 1008x288 with 2 Axes>"
      ]
     },
     "metadata": {
      "needs_background": "light"
     },
     "output_type": "display_data"
    },
    {
     "name": "stderr",
     "output_type": "stream",
     "text": [
      "C:\\Users\\fahad\\AppData\\Local\\Packages\\PythonSoftwareFoundation.Python.3.9_qbz5n2kfra8p0\\LocalCache\\local-packages\\Python39\\site-packages\\seaborn\\distributions.py:2619: FutureWarning: `distplot` is a deprecated function and will be removed in a future version. Please adapt your code to use either `displot` (a figure-level function with similar flexibility) or `histplot` (an axes-level function for histograms).\n",
      "  warnings.warn(msg, FutureWarning)\n"
     ]
    },
    {
     "data": {
      "image/png": "[encoded data removed]",
      "text/plain": [
       "<Figure size 1008x288 with 2 Axes>"
      ]
     },
     "metadata": {
      "needs_background": "light"
     },
     "output_type": "display_data"
    }
   ],
   "source": [
    "# Plotting the distplots with after transformation\n",
    "\n",
    "for col in df:\n",
    "    plt.figure(figsize=(14,4))\n",
    "    plt.subplot(121)\n",
    "    sns.distplot(df[col])\n",
    "    plt.title(col)\n",
    "\n",
    "    plt.subplot(122)\n",
    "    stats.probplot(df[col], dist=\"norm\", plot=plt)\n",
    "    plt.title(col)\n",
    "\n",
    "    plt.show()"
   ]
  },
  {
   "cell_type": "code",
   "execution_count": 37,
   "metadata": {},
   "outputs": [
    {
     "data": {
      "text/plain": [
       "Index(['WIND', 'IND', 'RAIN', 'IND_1', 'T_MAX', 'IND_2', 'T_MIN', 'T_MIN_G'], dtype='object')"
      ]
     },
     "execution_count": 37,
     "metadata": {},
     "output_type": "execute_result"
    }
   ],
   "source": [
    "df.columns"
   ]
  },
  {
   "cell_type": "markdown",
   "metadata": {},
   "source": [
    "***"
   ]
  },
  {
   "cell_type": "markdown",
   "metadata": {},
   "source": [
    "#### <span style=\"color:blue\">**Data Wrangling**</span>\n",
    "\n",
    "<a class=\"anchor\" id=\"2.2\"></a>"
   ]
  },
  {
   "cell_type": "code",
   "execution_count": 38,
   "id": "463a1e0b",
   "metadata": {},
   "outputs": [
    {
     "data": {
      "text/plain": [
       "WIND       0\n",
       "IND        0\n",
       "RAIN       0\n",
       "IND_1      0\n",
       "T_MAX      0\n",
       "IND_2      0\n",
       "T_MIN      0\n",
       "T_MIN_G    0\n",
       "dtype: int64"
      ]
     },
     "execution_count": 38,
     "metadata": {},
     "output_type": "execute_result"
    }
   ],
   "source": [
    "df.isnull().sum()"
   ]
  },
  {
   "cell_type": "code",
   "execution_count": 39,
   "metadata": {},
   "outputs": [
    {
     "data": {
      "text/plain": [
       "(6574, 8)"
      ]
     },
     "execution_count": 39,
     "metadata": {},
     "output_type": "execute_result"
    }
   ],
   "source": [
    "df.shape"
   ]
  },
  {
   "cell_type": "code",
   "execution_count": 40,
   "metadata": {},
   "outputs": [
    {
     "data": {
      "text/html": [
       "<div>\n",
       "<style scoped>\n",
       "    .dataframe tbody tr th:only-of-type {\n",
       "        vertical-align: middle;\n",
       "    }\n",
       "\n",
       "    .dataframe tbody tr th {\n",
       "        vertical-align: top;\n",
       "    }\n",
       "\n",
       "    .dataframe thead th {\n",
       "        text-align: right;\n",
       "    }\n",
       "</style>\n",
       "<table border=\"1\" class=\"dataframe\">\n",
       "  <thead>\n",
       "    <tr style=\"text-align: right;\">\n",
       "      <th></th>\n",
       "      <th>WIND</th>\n",
       "      <th>IND</th>\n",
       "      <th>RAIN</th>\n",
       "      <th>IND_1</th>\n",
       "      <th>T_MAX</th>\n",
       "      <th>IND_2</th>\n",
       "      <th>T_MIN</th>\n",
       "      <th>T_MIN_G</th>\n",
       "    </tr>\n",
       "  </thead>\n",
       "  <tbody>\n",
       "    <tr>\n",
       "      <th>3742</th>\n",
       "      <td>9.29</td>\n",
       "      <td>0</td>\n",
       "      <td>0.4</td>\n",
       "      <td>0.000000</td>\n",
       "      <td>-0.647802</td>\n",
       "      <td>0.000000</td>\n",
       "      <td>-0.114677</td>\n",
       "      <td>0.128508</td>\n",
       "    </tr>\n",
       "    <tr>\n",
       "      <th>2441</th>\n",
       "      <td>4.54</td>\n",
       "      <td>0</td>\n",
       "      <td>0.0</td>\n",
       "      <td>0.000000</td>\n",
       "      <td>0.575218</td>\n",
       "      <td>0.000000</td>\n",
       "      <td>-0.068521</td>\n",
       "      <td>-0.942760</td>\n",
       "    </tr>\n",
       "    <tr>\n",
       "      <th>2376</th>\n",
       "      <td>5.83</td>\n",
       "      <td>0</td>\n",
       "      <td>0.0</td>\n",
       "      <td>0.000000</td>\n",
       "      <td>1.444660</td>\n",
       "      <td>0.000000</td>\n",
       "      <td>0.913845</td>\n",
       "      <td>0.128508</td>\n",
       "    </tr>\n",
       "    <tr>\n",
       "      <th>2002</th>\n",
       "      <td>10.75</td>\n",
       "      <td>0</td>\n",
       "      <td>8.3</td>\n",
       "      <td>0.356364</td>\n",
       "      <td>0.006674</td>\n",
       "      <td>0.464456</td>\n",
       "      <td>-0.019598</td>\n",
       "      <td>-0.035982</td>\n",
       "    </tr>\n",
       "    <tr>\n",
       "      <th>4665</th>\n",
       "      <td>6.96</td>\n",
       "      <td>0</td>\n",
       "      <td>11.5</td>\n",
       "      <td>0.000000</td>\n",
       "      <td>-0.280966</td>\n",
       "      <td>0.000000</td>\n",
       "      <td>0.725035</td>\n",
       "      <td>1.240981</td>\n",
       "    </tr>\n",
       "  </tbody>\n",
       "</table>\n",
       "</div>"
      ],
      "text/plain": [
       "       WIND  IND  RAIN     IND_1     T_MAX     IND_2     T_MIN   T_MIN_G\n",
       "3742   9.29    0   0.4  0.000000 -0.647802  0.000000 -0.114677  0.128508\n",
       "2441   4.54    0   0.0  0.000000  0.575218  0.000000 -0.068521 -0.942760\n",
       "2376   5.83    0   0.0  0.000000  1.444660  0.000000  0.913845  0.128508\n",
       "2002  10.75    0   8.3  0.356364  0.006674  0.464456 -0.019598 -0.035982\n",
       "4665   6.96    0  11.5  0.000000 -0.280966  0.000000  0.725035  1.240981"
      ]
     },
     "execution_count": 40,
     "metadata": {},
     "output_type": "execute_result"
    }
   ],
   "source": [
    "df.sample(5)"
   ]
  },
  {
   "cell_type": "markdown",
   "metadata": {},
   "source": [
    "##### Feature Scaling\n",
    "\n",
    "<a class=\"anchor\" id=\"2.2.1\"></a>"
   ]
  },
  {
   "cell_type": "code",
   "execution_count": 41,
   "metadata": {},
   "outputs": [],
   "source": [
    "features_scale =[i for i in df.columns if i not in ['WIND']]\n",
    "\n",
    "scaler = MinMaxScaler()\n",
    "df[features_scale] = scaler.fit_transform(df[features_scale])"
   ]
  },
  {
   "cell_type": "code",
   "execution_count": 42,
   "metadata": {},
   "outputs": [
    {
     "data": {
      "text/html": [
       "<div>\n",
       "<style scoped>\n",
       "    .dataframe tbody tr th:only-of-type {\n",
       "        vertical-align: middle;\n",
       "    }\n",
       "\n",
       "    .dataframe tbody tr th {\n",
       "        vertical-align: top;\n",
       "    }\n",
       "\n",
       "    .dataframe thead th {\n",
       "        text-align: right;\n",
       "    }\n",
       "</style>\n",
       "<table border=\"1\" class=\"dataframe\">\n",
       "  <thead>\n",
       "    <tr style=\"text-align: right;\">\n",
       "      <th></th>\n",
       "      <th>IND</th>\n",
       "      <th>RAIN</th>\n",
       "      <th>IND_1</th>\n",
       "      <th>T_MAX</th>\n",
       "      <th>IND_2</th>\n",
       "      <th>T_MIN</th>\n",
       "      <th>T_MIN_G</th>\n",
       "    </tr>\n",
       "  </thead>\n",
       "  <tbody>\n",
       "    <tr>\n",
       "      <th>0</th>\n",
       "      <td>0.0</td>\n",
       "      <td>0.002985</td>\n",
       "      <td>0.0</td>\n",
       "      <td>0.368911</td>\n",
       "      <td>0.0</td>\n",
       "      <td>0.471136</td>\n",
       "      <td>0.40236</td>\n",
       "    </tr>\n",
       "  </tbody>\n",
       "</table>\n",
       "</div>"
      ],
      "text/plain": [
       "   IND      RAIN  IND_1     T_MAX  IND_2     T_MIN  T_MIN_G\n",
       "0  0.0  0.002985    0.0  0.368911    0.0  0.471136  0.40236"
      ]
     },
     "execution_count": 42,
     "metadata": {},
     "output_type": "execute_result"
    }
   ],
   "source": [
    "df[features_scale].head(1)\n"
   ]
  },
  {
   "cell_type": "code",
   "execution_count": 43,
   "metadata": {},
   "outputs": [
    {
     "data": {
      "text/html": [
       "<div>\n",
       "<style scoped>\n",
       "    .dataframe tbody tr th:only-of-type {\n",
       "        vertical-align: middle;\n",
       "    }\n",
       "\n",
       "    .dataframe tbody tr th {\n",
       "        vertical-align: top;\n",
       "    }\n",
       "\n",
       "    .dataframe thead th {\n",
       "        text-align: right;\n",
       "    }\n",
       "</style>\n",
       "<table border=\"1\" class=\"dataframe\">\n",
       "  <thead>\n",
       "    <tr style=\"text-align: right;\">\n",
       "      <th></th>\n",
       "      <th>WIND</th>\n",
       "      <th>IND</th>\n",
       "      <th>RAIN</th>\n",
       "      <th>IND_1</th>\n",
       "      <th>T_MAX</th>\n",
       "      <th>IND_2</th>\n",
       "      <th>T_MIN</th>\n",
       "      <th>T_MIN_G</th>\n",
       "    </tr>\n",
       "  </thead>\n",
       "  <tbody>\n",
       "    <tr>\n",
       "      <th>0</th>\n",
       "      <td>13.67</td>\n",
       "      <td>0.0</td>\n",
       "      <td>0.002985</td>\n",
       "      <td>0.0</td>\n",
       "      <td>0.368911</td>\n",
       "      <td>0.00</td>\n",
       "      <td>0.471136</td>\n",
       "      <td>0.402360</td>\n",
       "    </tr>\n",
       "    <tr>\n",
       "      <th>1</th>\n",
       "      <td>11.50</td>\n",
       "      <td>0.0</td>\n",
       "      <td>0.076119</td>\n",
       "      <td>0.0</td>\n",
       "      <td>0.282758</td>\n",
       "      <td>0.00</td>\n",
       "      <td>0.488878</td>\n",
       "      <td>0.471346</td>\n",
       "    </tr>\n",
       "    <tr>\n",
       "      <th>2</th>\n",
       "      <td>11.25</td>\n",
       "      <td>0.0</td>\n",
       "      <td>0.005970</td>\n",
       "      <td>0.0</td>\n",
       "      <td>0.218482</td>\n",
       "      <td>0.00</td>\n",
       "      <td>0.360536</td>\n",
       "      <td>0.418367</td>\n",
       "    </tr>\n",
       "    <tr>\n",
       "      <th>3</th>\n",
       "      <td>8.63</td>\n",
       "      <td>0.0</td>\n",
       "      <td>0.002985</td>\n",
       "      <td>0.0</td>\n",
       "      <td>0.222279</td>\n",
       "      <td>0.00</td>\n",
       "      <td>0.357204</td>\n",
       "      <td>0.333598</td>\n",
       "    </tr>\n",
       "    <tr>\n",
       "      <th>4</th>\n",
       "      <td>11.92</td>\n",
       "      <td>0.0</td>\n",
       "      <td>0.155224</td>\n",
       "      <td>0.0</td>\n",
       "      <td>0.282758</td>\n",
       "      <td>0.25</td>\n",
       "      <td>0.296268</td>\n",
       "      <td>0.203329</td>\n",
       "    </tr>\n",
       "  </tbody>\n",
       "</table>\n",
       "</div>"
      ],
      "text/plain": [
       "    WIND  IND      RAIN  IND_1     T_MAX  IND_2     T_MIN   T_MIN_G\n",
       "0  13.67  0.0  0.002985    0.0  0.368911   0.00  0.471136  0.402360\n",
       "1  11.50  0.0  0.076119    0.0  0.282758   0.00  0.488878  0.471346\n",
       "2  11.25  0.0  0.005970    0.0  0.218482   0.00  0.360536  0.418367\n",
       "3   8.63  0.0  0.002985    0.0  0.222279   0.00  0.357204  0.333598\n",
       "4  11.92  0.0  0.155224    0.0  0.282758   0.25  0.296268  0.203329"
      ]
     },
     "execution_count": 43,
     "metadata": {},
     "output_type": "execute_result"
    }
   ],
   "source": [
    "df.head()"
   ]
  },
  {
   "cell_type": "markdown",
   "metadata": {},
   "source": [
    "***"
   ]
  },
  {
   "cell_type": "markdown",
   "metadata": {},
   "source": [
    "### <span style=\"color:cyan\">Step: 03</span>: Data Cleaned or Organize\n",
    "\n",
    "<a class=\"anchor\" id=\"3\"></a>"
   ]
  },
  {
   "cell_type": "markdown",
   "metadata": {},
   "source": [
    "#### Remove Outliers\n",
    "\n",
    "<a class=\"anchor\" id=\"3.1\"></a>"
   ]
  },
  {
   "cell_type": "code",
   "execution_count": 44,
   "metadata": {},
   "outputs": [],
   "source": [
    "outliers = [i for i in df.columns if i not in ['WIND']]"
   ]
  },
  {
   "cell_type": "code",
   "execution_count": 45,
   "metadata": {},
   "outputs": [
    {
     "name": "stdout",
     "output_type": "stream",
     "text": [
      "Before Cleaning: (6574, 8)\n"
     ]
    }
   ],
   "source": [
    "print(\"Before Cleaning:\", df.shape)"
   ]
  },
  {
   "cell_type": "code",
   "execution_count": 46,
   "metadata": {},
   "outputs": [
    {
     "name": "stdout",
     "output_type": "stream",
     "text": [
      "Before Removing Outliers\n"
     ]
    },
    {
     "data": {
      "image/png": "[encoded data removed]",
      "text/plain": [
       "<Figure size 1080x432 with 1 Axes>"
      ]
     },
     "metadata": {
      "needs_background": "light"
     },
     "output_type": "display_data"
    }
   ],
   "source": [
    "print(\"Before Removing Outliers\")\n",
    "plt.figure(figsize=(15,6))\n",
    "sns.set_theme(style=\"whitegrid\", color_codes=True)\n",
    "sns.boxplot(data=df[outliers],\n",
    "            palette=\"Set1\")\n",
    "plt.show()            "
   ]
  },
  {
   "cell_type": "markdown",
   "metadata": {},
   "source": [
    "***"
   ]
  },
  {
   "cell_type": "code",
   "execution_count": 47,
   "metadata": {},
   "outputs": [
    {
     "name": "stdout",
     "output_type": "stream",
     "text": [
      "Before Removing (T_MIN) outliers\n"
     ]
    },
    {
     "data": {
      "image/png": "[encoded data removed]",
      "text/plain": [
       "<Figure size 432x288 with 1 Axes>"
      ]
     },
     "metadata": {},
     "output_type": "display_data"
    },
    {
     "name": "stdout",
     "output_type": "stream",
     "text": [
      "After Removing (T_MIN) outliers\n"
     ]
    },
    {
     "data": {
      "image/png": "[encoded data removed]",
      "text/plain": [
       "<Figure size 432x288 with 1 Axes>"
      ]
     },
     "metadata": {},
     "output_type": "display_data"
    }
   ],
   "source": [
    "# T_MIN\n",
    "\n",
    "print(\"Before Removing (T_MIN) outliers\")\n",
    "sns.set_theme(style=\"whitegrid\", color_codes=True)\n",
    "sns.boxplot(data=df,\n",
    "            x=\"T_MIN\",\n",
    "            palette=\"Set2\")\n",
    "plt.show()            \n",
    "\n",
    "df = df[df['T_MIN']>0.1] \n",
    "\n",
    "\n",
    "print(\"After Removing (T_MIN) outliers\")\n",
    "sns.set_theme(style=\"whitegrid\", color_codes=True)\n",
    "sns.boxplot(data=df,\n",
    "            x=\"T_MIN\",\n",
    "            palette=\"Set2\")\n",
    "plt.show()            "
   ]
  },
  {
   "cell_type": "code",
   "execution_count": 48,
   "metadata": {},
   "outputs": [
    {
     "name": "stdout",
     "output_type": "stream",
     "text": [
      "Shape: (6569, 8)\n"
     ]
    }
   ],
   "source": [
    "print(\"Shape:\", df.shape)"
   ]
  },
  {
   "cell_type": "markdown",
   "metadata": {},
   "source": [
    "***"
   ]
  },
  {
   "cell_type": "code",
   "execution_count": 49,
   "metadata": {},
   "outputs": [
    {
     "name": "stdout",
     "output_type": "stream",
     "text": [
      "After Cleaning: (6569, 8)\n"
     ]
    }
   ],
   "source": [
    "print(\"After Cleaning:\", df.shape)"
   ]
  },
  {
   "cell_type": "code",
   "execution_count": 50,
   "metadata": {},
   "outputs": [
    {
     "name": "stdout",
     "output_type": "stream",
     "text": [
      "After Removing Outliers\n"
     ]
    },
    {
     "data": {
      "image/png": "[encoded data removed]",
      "text/plain": [
       "<Figure size 1080x432 with 1 Axes>"
      ]
     },
     "metadata": {},
     "output_type": "display_data"
    }
   ],
   "source": [
    "print(\"After Removing Outliers\")\n",
    "plt.figure(figsize=(15,6))\n",
    "sns.set_theme(style=\"whitegrid\", color_codes=True)\n",
    "sns.boxplot(data=df[outliers],\n",
    "            palette=\"hls\")\n",
    "plt.show()            "
   ]
  },
  {
   "cell_type": "markdown",
   "metadata": {},
   "source": [
    "***"
   ]
  },
  {
   "cell_type": "markdown",
   "metadata": {},
   "source": [
    "### <span style=\"color:cyan\">Step: 04</span>: Splitting Dataset into (Training and Testing) Data \n",
    "\n",
    "<a class=\"anchor\" id=\"4\"></a>"
   ]
  },
  {
   "cell_type": "code",
   "execution_count": 51,
   "metadata": {},
   "outputs": [],
   "source": [
    "X = df.drop(['WIND'], axis=1)\n",
    "y = df[['WIND']]"
   ]
  },
  {
   "cell_type": "code",
   "execution_count": 52,
   "metadata": {},
   "outputs": [
    {
     "data": {
      "text/html": [
       "<div>\n",
       "<style scoped>\n",
       "    .dataframe tbody tr th:only-of-type {\n",
       "        vertical-align: middle;\n",
       "    }\n",
       "\n",
       "    .dataframe tbody tr th {\n",
       "        vertical-align: top;\n",
       "    }\n",
       "\n",
       "    .dataframe thead th {\n",
       "        text-align: right;\n",
       "    }\n",
       "</style>\n",
       "<table border=\"1\" class=\"dataframe\">\n",
       "  <thead>\n",
       "    <tr style=\"text-align: right;\">\n",
       "      <th></th>\n",
       "      <th>IND</th>\n",
       "      <th>RAIN</th>\n",
       "      <th>IND_1</th>\n",
       "      <th>T_MAX</th>\n",
       "      <th>IND_2</th>\n",
       "      <th>T_MIN</th>\n",
       "      <th>T_MIN_G</th>\n",
       "    </tr>\n",
       "  </thead>\n",
       "  <tbody>\n",
       "    <tr>\n",
       "      <th>2382</th>\n",
       "      <td>0.0</td>\n",
       "      <td>0.007463</td>\n",
       "      <td>0.0</td>\n",
       "      <td>0.845130</td>\n",
       "      <td>0.0</td>\n",
       "      <td>0.856335</td>\n",
       "      <td>0.863561</td>\n",
       "    </tr>\n",
       "    <tr>\n",
       "      <th>5906</th>\n",
       "      <td>0.0</td>\n",
       "      <td>0.000000</td>\n",
       "      <td>0.0</td>\n",
       "      <td>0.424691</td>\n",
       "      <td>0.0</td>\n",
       "      <td>0.538999</td>\n",
       "      <td>0.451165</td>\n",
       "    </tr>\n",
       "    <tr>\n",
       "      <th>1875</th>\n",
       "      <td>0.0</td>\n",
       "      <td>0.023881</td>\n",
       "      <td>0.0</td>\n",
       "      <td>0.454328</td>\n",
       "      <td>0.0</td>\n",
       "      <td>0.471136</td>\n",
       "      <td>0.533221</td>\n",
       "    </tr>\n",
       "    <tr>\n",
       "      <th>4598</th>\n",
       "      <td>0.0</td>\n",
       "      <td>0.067164</td>\n",
       "      <td>0.0</td>\n",
       "      <td>0.681863</td>\n",
       "      <td>0.0</td>\n",
       "      <td>0.662840</td>\n",
       "      <td>0.589327</td>\n",
       "    </tr>\n",
       "    <tr>\n",
       "      <th>1179</th>\n",
       "      <td>0.0</td>\n",
       "      <td>0.001493</td>\n",
       "      <td>0.0</td>\n",
       "      <td>0.398696</td>\n",
       "      <td>0.0</td>\n",
       "      <td>0.442955</td>\n",
       "      <td>0.444509</td>\n",
       "    </tr>\n",
       "  </tbody>\n",
       "</table>\n",
       "</div>"
      ],
      "text/plain": [
       "      IND      RAIN  IND_1     T_MAX  IND_2     T_MIN   T_MIN_G\n",
       "2382  0.0  0.007463    0.0  0.845130    0.0  0.856335  0.863561\n",
       "5906  0.0  0.000000    0.0  0.424691    0.0  0.538999  0.451165\n",
       "1875  0.0  0.023881    0.0  0.454328    0.0  0.471136  0.533221\n",
       "4598  0.0  0.067164    0.0  0.681863    0.0  0.662840  0.589327\n",
       "1179  0.0  0.001493    0.0  0.398696    0.0  0.442955  0.444509"
      ]
     },
     "execution_count": 52,
     "metadata": {},
     "output_type": "execute_result"
    }
   ],
   "source": [
    "X.sample(5)"
   ]
  },
  {
   "cell_type": "code",
   "execution_count": 53,
   "metadata": {},
   "outputs": [
    {
     "data": {
      "text/html": [
       "<div>\n",
       "<style scoped>\n",
       "    .dataframe tbody tr th:only-of-type {\n",
       "        vertical-align: middle;\n",
       "    }\n",
       "\n",
       "    .dataframe tbody tr th {\n",
       "        vertical-align: top;\n",
       "    }\n",
       "\n",
       "    .dataframe thead th {\n",
       "        text-align: right;\n",
       "    }\n",
       "</style>\n",
       "<table border=\"1\" class=\"dataframe\">\n",
       "  <thead>\n",
       "    <tr style=\"text-align: right;\">\n",
       "      <th></th>\n",
       "      <th>WIND</th>\n",
       "    </tr>\n",
       "  </thead>\n",
       "  <tbody>\n",
       "    <tr>\n",
       "      <th>2139</th>\n",
       "      <td>6.75</td>\n",
       "    </tr>\n",
       "    <tr>\n",
       "      <th>4786</th>\n",
       "      <td>13.62</td>\n",
       "    </tr>\n",
       "    <tr>\n",
       "      <th>4920</th>\n",
       "      <td>11.54</td>\n",
       "    </tr>\n",
       "    <tr>\n",
       "      <th>4868</th>\n",
       "      <td>13.70</td>\n",
       "    </tr>\n",
       "    <tr>\n",
       "      <th>1691</th>\n",
       "      <td>10.96</td>\n",
       "    </tr>\n",
       "  </tbody>\n",
       "</table>\n",
       "</div>"
      ],
      "text/plain": [
       "       WIND\n",
       "2139   6.75\n",
       "4786  13.62\n",
       "4920  11.54\n",
       "4868  13.70\n",
       "1691  10.96"
      ]
     },
     "execution_count": 53,
     "metadata": {},
     "output_type": "execute_result"
    }
   ],
   "source": [
    "y.sample(5)"
   ]
  },
  {
   "cell_type": "code",
   "execution_count": 54,
   "metadata": {},
   "outputs": [
    {
     "data": {
      "text/plain": [
       "array([13.67, 11.5 , 11.25,  8.63, 11.92, 10.67,  9.17, 14.29,  8.04,\n",
       "       11.42,  7.54, 15.54,  4.63,  3.08,  2.5 ,  9.25, 13.42, 17.83,\n",
       "        3.71,  3.17,  9.38, 13.7 , 20.38, 14.33, 16.79, 12.25, 22.  ,\n",
       "       14.5 , 14.88, 10.17, 10.88,  8.5 , 12.54, 13.96, 19.17, 14.21,\n",
       "       16.5 , 14.37, 11.08, 17.5 , 11.71, 16.08, 15.46,  5.17,  3.42,\n",
       "        6.17,  9.62,  7.25,  3.75,  8.25, 16.38,  8.17, 13.08, 21.17,\n",
       "       12.75, 14.75, 10.25, 11.29,  6.21,  5.5 ,  2.83,  3.63,  1.71,\n",
       "        8.79, 10.34, 17.12,  8.12, 11.54,  2.75, 13.  , 13.17,  7.75,\n",
       "       15.41,  8.  ,  8.46, 10.75, 13.75,  6.75, 16.62, 14.79, 11.67,\n",
       "        5.25,  6.  ,  5.  ,  5.33,  8.71,  9.96,  5.21,  5.66,  6.54,\n",
       "        4.29,  2.46,  2.88,  4.46, 12.96,  9.5 ,  7.46, 10.71,  6.25,\n",
       "        2.67,  4.04,  5.09, 10.46,  5.96,  9.13, 16.83, 18.21, 18.58,\n",
       "        3.33,  3.67, 10.04,  5.91,  8.38,  5.83,  5.04,  6.83,  4.71,\n",
       "        2.42,  3.13,  4.  ,  6.79,  9.33,  4.92,  5.41,  6.58,  9.75,\n",
       "        7.92, 10.41,  4.21,  9.54,  8.29,  9.71,  4.67, 10.54, 10.37,\n",
       "       13.29, 11.87,  8.33,  6.71, 15.75, 14.92, 10.08,  7.08, 14.54,\n",
       "       14.04,  9.46,  7.41,  9.08, 11.83, 13.13,  4.96,  3.5 ,  3.04,\n",
       "        2.21,  4.75,  3.58, 12.29, 18.79,  7.87,  9.67,  5.79,  6.04,\n",
       "        8.87, 13.54,  3.88, 10.63, 10.92, 15.09,  9.42, 10.21, 19.04,\n",
       "       13.21, 12.58, 19.  , 12.08,  9.79, 12.12, 14.12,  4.58,  2.92,\n",
       "        3.83,  5.88,  1.25, 14.09,  6.92,  4.83, 11.75, 20.79,  4.17,\n",
       "        4.79,  6.46,  4.12,  6.08,  8.92, 12.46,  8.08,  9.21, 10.96,\n",
       "        5.63,  6.87,  9.04, 12.71,  5.58,  9.92,  2.96,  9.  , 14.58,\n",
       "       22.17, 21.84,  7.5 , 17.58, 16.21, 17.96, 18.34,  7.79, 15.25,\n",
       "       15.83, 11.21, 10.79,  8.21,  9.29,  7.71, 13.04, 21.87, 15.71,\n",
       "        2.29,  7.  , 16.17,  6.34, 12.79, 15.29, 12.21,  7.67, 13.79,\n",
       "       12.62, 19.83, 18.84, 25.62, 16.66,  3.54,  4.33, 13.59, 18.12,\n",
       "        8.96, 15.  , 17.29, 17.71, 25.96, 23.54, 19.7 , 12.42, 19.75,\n",
       "       22.79, 10.29, 23.25, 17.25, 18.29,  2.17, 13.33, 22.42, 15.96,\n",
       "       18.88, 18.75, 25.  , 14.96, 24.41, 29.54, 15.79, 23.45, 28.84,\n",
       "        1.46,  7.04, 20.21, 22.63, 26.87, 13.88,  7.96,  9.59, 29.58,\n",
       "       18.  , 16.54, 19.41, 10.83, 16.42, 19.79, 20.83, 17.08, 22.5 ,\n",
       "       18.25, 12.04,  3.79, 13.83, 15.34, 14.83,  8.58,  6.42,  5.37,\n",
       "        2.25,  4.88, 11.34, 11.04,  8.75,  9.83, 18.05, 11.63, 16.  ,\n",
       "        7.17,  7.83,  3.  ,  6.5 , 14.  ,  2.79,  8.42, 21.5 , 23.42,\n",
       "       16.04, 25.29,  7.12, 11.17, 12.87,  5.46,  5.71,  5.54,  1.87,\n",
       "        4.54, 12.33,  4.38, 10.  , 12.17, 14.25, 10.5 , 18.5 ,  8.67,\n",
       "       11.38, 17.04, 21.09, 15.5 , 22.13,  6.13, 10.58, 12.  ,  7.33,\n",
       "        3.92,  6.29, 11.79, 15.63, 15.92, 11.96, 20.75,  4.42, 16.25,\n",
       "        7.29, 16.46, 10.13, 23.67, 20.25, 12.67, 19.67, 20.  , 28.91,\n",
       "        9.87, 12.38, 13.62, 28.79, 27.79,  8.54, 20.91, 16.75, 21.67,\n",
       "       19.38,  3.96, 15.37, 23.79, 19.62,  1.63,  1.33, 15.16, 16.88,\n",
       "       15.67, 12.83, 11.46, 19.25, 12.5 , 14.46, 14.42, 17.88, 17.33,\n",
       "        6.67, 13.92, 19.55,  7.62, 20.04, 20.5 , 15.21, 21.54, 19.58,\n",
       "       13.37, 23.09, 15.59, 20.33, 19.33,  7.21,  5.13, 17.67,  4.25,\n",
       "        5.75, 13.5 , 11.58, 14.71, 11.  ,  4.08,  2.62, 14.62, 11.12,\n",
       "       14.67,  2.54,  3.21, 23.04, 12.92, 16.13, 25.92, 24.71, 18.41,\n",
       "       21.29,  1.83,  3.46, 17.54, 16.96,  6.63, 18.08,  2.71, 15.04,\n",
       "        7.58,  1.92, 15.87, 22.92, 20.3 , 24.  , 17.41, 23.13, 22.54,\n",
       "       20.08, 13.46,  6.96, 17.37, 13.25,  1.96,  2.04,  4.5 , 15.12,\n",
       "       18.71,  1.75, 24.08, 18.16, 20.88, 17.21, 20.12, 28.5 ,  8.83,\n",
       "       21.04, 18.63, 22.46, 18.66, 27.08, 17.46,  3.37,  3.25, 24.21,\n",
       "       16.92, 17.  , 14.17,  3.29, 16.33,  2.13,  0.42,  5.29, 21.62,\n",
       "       19.21, 29.17, 27.58, 25.33, 17.92,  7.38,  6.38, 21.79,  1.13,\n",
       "       20.46, 19.08, 17.79, 22.95, 23.63, 22.29, 20.62, 20.54, 28.62,\n",
       "       21.25,  0.83,  1.38, 16.29,  1.21,  2.33,  2.  , 19.87, 21.75,\n",
       "       30.37, 28.16, 25.12, 23.75, 26.  , 17.16, 26.54, 22.08, 21.92,\n",
       "       22.83, 16.71, 25.25, 19.95, 18.54,  1.79, 22.34, 19.12, 17.62,\n",
       "        0.58,  0.54, 22.04,  0.46,  2.37, 24.5 , 21.12, 16.58,  2.58,\n",
       "        1.42, 20.41, 17.75,  1.54, 24.62, 27.71,  1.08,  0.21,  1.5 ,\n",
       "        0.71,  2.08,  1.17,  1.04, 21.96,  1.29,  0.37,  1.  , 22.37,\n",
       "       21.71, 24.25,  1.67,  1.58, 25.04, 18.96, 19.29, 18.38, 18.91,\n",
       "       21.46, 20.17,  0.63,  0.  , 20.67, 25.46, 19.5 , 21.59,  0.92,\n",
       "       18.46, 21.42, 23.5 , 19.46, 26.42, 24.13, 19.92, 23.83, 25.54,\n",
       "       20.96,  0.75, 22.21, 24.54])"
      ]
     },
     "execution_count": 54,
     "metadata": {},
     "output_type": "execute_result"
    }
   ],
   "source": [
    "y['WIND'].unique()"
   ]
  },
  {
   "cell_type": "code",
   "execution_count": 55,
   "metadata": {},
   "outputs": [],
   "source": [
    "X_train, X_test, y_train, y_test = train_test_split(X, y, test_size=0.2, random_state=42)"
   ]
  },
  {
   "cell_type": "markdown",
   "metadata": {},
   "source": [
    "***"
   ]
  },
  {
   "cell_type": "markdown",
   "metadata": {},
   "source": [
    "### <span style=\"color:cyan\">Step: 05</span>: Apply Techniques !\n",
    "\n",
    "<a class=\"anchor\" id=\"5\"></a>"
   ]
  },
  {
   "cell_type": "markdown",
   "metadata": {},
   "source": [
    "### **Model Building**\n",
    "\n",
    "<a class=\"anchor\" id=\"5\"></a>"
   ]
  },
  {
   "cell_type": "markdown",
   "metadata": {},
   "source": [
    "#### <span style=\"color:yellow\">Linear Regression</span>\n",
    "\n",
    "<a class=\"anchor\" id=\"5.1\"></a>"
   ]
  },
  {
   "cell_type": "code",
   "execution_count": 56,
   "metadata": {},
   "outputs": [
    {
     "data": {
      "text/plain": [
       "DecisionTreeRegressor()"
      ]
     },
     "execution_count": 56,
     "metadata": {},
     "output_type": "execute_result"
    }
   ],
   "source": [
    "# LinearRegression\n",
    "\n",
    "linear_model = DecisionTreeRegressor().fit(X_train, y_train)\n",
    "linear_model"
   ]
  },
  {
   "cell_type": "code",
   "execution_count": 57,
   "metadata": {},
   "outputs": [
    {
     "name": "stdout",
     "output_type": "stream",
     "text": [
      "Linear Regression: -47.094\n"
     ]
    }
   ],
   "source": [
    "y_pred_linear = linear_model.predict(X_test)\n",
    "y_pred_linear\n",
    "\n",
    "# LinearRegression\n",
    "linear_score = np.round(r2_score(y_test, y_pred_linear)*100, 3)\n",
    "print(\"Linear Regression:\", linear_score)"
   ]
  },
  {
   "cell_type": "code",
   "execution_count": 58,
   "metadata": {},
   "outputs": [
    {
     "name": "stdout",
     "output_type": "stream",
     "text": [
      "Linear Regression. (MAE): 479.64421613394217\n"
     ]
    }
   ],
   "source": [
    "# Find MAE\n",
    "\n",
    "linear_mae = mean_absolute_error(y_test, y_pred_linear)*100\n",
    "print(\"Linear Regression. (MAE):\", linear_mae)"
   ]
  },
  {
   "cell_type": "code",
   "execution_count": 59,
   "metadata": {},
   "outputs": [
    {
     "name": "stdout",
     "output_type": "stream",
     "text": [
      "Linear Regression. (MSE): 3687.9571747632335\n"
     ]
    }
   ],
   "source": [
    "# Find MSE\n",
    "\n",
    "linear_mse = mean_squared_error(y_test, y_pred_linear)*100\n",
    "print(\"Linear Regression. (MSE):\", linear_mse)"
   ]
  },
  {
   "cell_type": "code",
   "execution_count": 60,
   "metadata": {},
   "outputs": [
    {
     "name": "stdout",
     "output_type": "stream",
     "text": [
      "Linear Regression. (RMSE): 6.0728553208216915\n"
     ]
    }
   ],
   "source": [
    "# Find RMSE\n",
    "\n",
    "linear_rmse = sqrt(mean_squared_error(y_test, y_pred_linear))\n",
    "print(\"Linear Regression. (RMSE):\", linear_rmse)"
   ]
  },
  {
   "cell_type": "code",
   "execution_count": 61,
   "metadata": {},
   "outputs": [],
   "source": [
    "lr_data={'Linear Regression'                   :[linear_score],\n",
    "         'Linear Regression. (MAE)'            :[linear_mae],\n",
    "         'Linear Regression. (MSE)'            :[linear_mse],\n",
    "         'Linear Regression. (RMSE)'           :[linear_rmse]\n",
    "}"
   ]
  },
  {
   "cell_type": "code",
   "execution_count": 62,
   "metadata": {},
   "outputs": [
    {
     "data": {
      "text/html": [
       "<div>\n",
       "<style scoped>\n",
       "    .dataframe tbody tr th:only-of-type {\n",
       "        vertical-align: middle;\n",
       "    }\n",
       "\n",
       "    .dataframe tbody tr th {\n",
       "        vertical-align: top;\n",
       "    }\n",
       "\n",
       "    .dataframe thead th {\n",
       "        text-align: right;\n",
       "    }\n",
       "</style>\n",
       "<table border=\"1\" class=\"dataframe\">\n",
       "  <thead>\n",
       "    <tr style=\"text-align: right;\">\n",
       "      <th></th>\n",
       "      <th>Linear Regression</th>\n",
       "      <th>Linear Regression. (MAE)</th>\n",
       "      <th>Linear Regression. (MSE)</th>\n",
       "      <th>Linear Regression. (RMSE)</th>\n",
       "    </tr>\n",
       "  </thead>\n",
       "  <tbody>\n",
       "    <tr>\n",
       "      <th>Score</th>\n",
       "      <td>-47.094</td>\n",
       "      <td>479.644216</td>\n",
       "      <td>3687.957175</td>\n",
       "      <td>6.072855</td>\n",
       "    </tr>\n",
       "  </tbody>\n",
       "</table>\n",
       "</div>"
      ],
      "text/plain": [
       "       Linear Regression  Linear Regression. (MAE)  Linear Regression. (MSE)  \\\n",
       "Score            -47.094                479.644216               3687.957175   \n",
       "\n",
       "       Linear Regression. (RMSE)  \n",
       "Score                   6.072855  "
      ]
     },
     "execution_count": 62,
     "metadata": {},
     "output_type": "execute_result"
    }
   ],
   "source": [
    "lr_Evaluation = pd.DataFrame(lr_data, index=['Score'])\n",
    "lr_Evaluation"
   ]
  },
  {
   "cell_type": "markdown",
   "metadata": {},
   "source": [
    "#### <span style=\"color:yellow\">Decision Tree Regression</span>\n",
    "\n",
    "<a class=\"anchor\" id=\"5.2\"></a>"
   ]
  },
  {
   "cell_type": "code",
   "execution_count": 63,
   "metadata": {},
   "outputs": [
    {
     "data": {
      "text/plain": [
       "DecisionTreeRegressor()"
      ]
     },
     "execution_count": 63,
     "metadata": {},
     "output_type": "execute_result"
    }
   ],
   "source": [
    "# DecisionTreeRegressor\n",
    "\n",
    "dt_model = DecisionTreeRegressor().fit(X_train, y_train)\n",
    "dt_model"
   ]
  },
  {
   "cell_type": "code",
   "execution_count": 64,
   "metadata": {},
   "outputs": [
    {
     "name": "stdout",
     "output_type": "stream",
     "text": [
      "Decision tree: -46.864\n"
     ]
    }
   ],
   "source": [
    "y_pred_dt = dt_model.predict(X_test)\n",
    "y_pred_dt\n",
    "\n",
    "# Decision tree\n",
    "dt_score = np.round(r2_score(y_test, y_pred_dt)*100, 3)\n",
    "print(\"Decision tree:\", dt_score)"
   ]
  },
  {
   "cell_type": "code",
   "execution_count": 65,
   "metadata": {},
   "outputs": [
    {
     "name": "stdout",
     "output_type": "stream",
     "text": [
      "Decision tree Regressor. (MAE): 479.00925925925924\n"
     ]
    }
   ],
   "source": [
    "# Find MAE\n",
    "\n",
    "dt_mae = mean_absolute_error(y_test, y_pred_dt)*100\n",
    "print(\"Decision tree Regressor. (MAE):\", dt_mae)"
   ]
  },
  {
   "cell_type": "code",
   "execution_count": 66,
   "metadata": {},
   "outputs": [
    {
     "name": "stdout",
     "output_type": "stream",
     "text": [
      "Decision tree Regressor. (MSE): 3682.1737340394043\n"
     ]
    }
   ],
   "source": [
    "# Find MSE\n",
    "\n",
    "dt_mse = mean_squared_error(y_test, y_pred_dt)*100\n",
    "print(\"Decision tree Regressor. (MSE):\", dt_mse)"
   ]
  },
  {
   "cell_type": "code",
   "execution_count": 67,
   "metadata": {},
   "outputs": [
    {
     "name": "stdout",
     "output_type": "stream",
     "text": [
      "Decision tree Regressor. (RMSE): 6.06809173796788\n"
     ]
    }
   ],
   "source": [
    "# Find RMSE\n",
    "\n",
    "dt_rmse = sqrt(mean_squared_error(y_test, y_pred_dt))\n",
    "print(\"Decision tree Regressor. (RMSE):\", dt_rmse)"
   ]
  },
  {
   "cell_type": "code",
   "execution_count": 68,
   "metadata": {},
   "outputs": [],
   "source": [
    "dt_data={'Decision tree Regressor'                   :[dt_score],\n",
    "         'Decision tree Regressor. (MAE)'            :[dt_mae],\n",
    "         'Decision tree Regressor. (MSE)'            :[dt_mse],\n",
    "         'Decision tree Regressor. (RMSE)'           :[dt_rmse]\n",
    "}"
   ]
  },
  {
   "cell_type": "code",
   "execution_count": 69,
   "metadata": {},
   "outputs": [
    {
     "data": {
      "text/html": [
       "<div>\n",
       "<style scoped>\n",
       "    .dataframe tbody tr th:only-of-type {\n",
       "        vertical-align: middle;\n",
       "    }\n",
       "\n",
       "    .dataframe tbody tr th {\n",
       "        vertical-align: top;\n",
       "    }\n",
       "\n",
       "    .dataframe thead th {\n",
       "        text-align: right;\n",
       "    }\n",
       "</style>\n",
       "<table border=\"1\" class=\"dataframe\">\n",
       "  <thead>\n",
       "    <tr style=\"text-align: right;\">\n",
       "      <th></th>\n",
       "      <th>Decision tree Regressor</th>\n",
       "      <th>Decision tree Regressor. (MAE)</th>\n",
       "      <th>Decision tree Regressor. (MSE)</th>\n",
       "      <th>Decision tree Regressor. (RMSE)</th>\n",
       "    </tr>\n",
       "  </thead>\n",
       "  <tbody>\n",
       "    <tr>\n",
       "      <th>Score</th>\n",
       "      <td>-46.864</td>\n",
       "      <td>479.009259</td>\n",
       "      <td>3682.173734</td>\n",
       "      <td>6.068092</td>\n",
       "    </tr>\n",
       "  </tbody>\n",
       "</table>\n",
       "</div>"
      ],
      "text/plain": [
       "       Decision tree Regressor  Decision tree Regressor. (MAE)  \\\n",
       "Score                  -46.864                      479.009259   \n",
       "\n",
       "       Decision tree Regressor. (MSE)  Decision tree Regressor. (RMSE)  \n",
       "Score                     3682.173734                         6.068092  "
      ]
     },
     "execution_count": 69,
     "metadata": {},
     "output_type": "execute_result"
    }
   ],
   "source": [
    "dt_Evaluation = pd.DataFrame(dt_data, index=['Score'])\n",
    "dt_Evaluation"
   ]
  },
  {
   "cell_type": "markdown",
   "metadata": {},
   "source": [
    "#### <span style=\"color:yellow\">Random Forest Regression</span>\n",
    "\n",
    "<a class=\"anchor\" id=\"5.3\"></a>"
   ]
  },
  {
   "cell_type": "code",
   "execution_count": 70,
   "metadata": {},
   "outputs": [
    {
     "name": "stderr",
     "output_type": "stream",
     "text": [
      "C:\\Users\\fahad\\AppData\\Local\\Temp\\ipykernel_19000\\1965207319.py:3: DataConversionWarning: A column-vector y was passed when a 1d array was expected. Please change the shape of y to (n_samples,), for example using ravel().\n",
      "  rf_model = RandomForestRegressor(n_estimators=1).fit(X_train, y_train)\n"
     ]
    },
    {
     "data": {
      "text/plain": [
       "RandomForestRegressor(n_estimators=1)"
      ]
     },
     "execution_count": 70,
     "metadata": {},
     "output_type": "execute_result"
    }
   ],
   "source": [
    "# RandomForestRegressor\n",
    "\n",
    "rf_model = RandomForestRegressor(n_estimators=1).fit(X_train, y_train)\n",
    "rf_model"
   ]
  },
  {
   "cell_type": "code",
   "execution_count": 71,
   "metadata": {},
   "outputs": [
    {
     "name": "stdout",
     "output_type": "stream",
     "text": [
      "Random forest: -59.545\n"
     ]
    }
   ],
   "source": [
    "y_pred_rf = rf_model.predict(X_test)\n",
    "y_pred_rf\n",
    "\n",
    "# Random forest\n",
    "rf_score = np.round(r2_score(y_test, y_pred_rf)*100, 3)\n",
    "print(\"Random forest:\", rf_score)"
   ]
  },
  {
   "cell_type": "code",
   "execution_count": 72,
   "metadata": {},
   "outputs": [
    {
     "name": "stdout",
     "output_type": "stream",
     "text": [
      "Random Forest Regressor. (MAE): 492.47387113140536\n"
     ]
    }
   ],
   "source": [
    "# Find MAE\n",
    "\n",
    "rf_mae = mean_absolute_error(y_test, y_pred_rf)*100\n",
    "print(\"Random Forest Regressor. (MAE):\", rf_mae)"
   ]
  },
  {
   "cell_type": "code",
   "execution_count": 73,
   "metadata": {},
   "outputs": [
    {
     "name": "stdout",
     "output_type": "stream",
     "text": [
      "Random Forest Regressor. (MSE): 4000.1310762208304\n"
     ]
    }
   ],
   "source": [
    "# Find MSE\n",
    "\n",
    "rf_mse = mean_squared_error(y_test, y_pred_rf)*100\n",
    "print(\"Random Forest Regressor. (MSE):\", rf_mse)"
   ]
  },
  {
   "cell_type": "code",
   "execution_count": 74,
   "metadata": {},
   "outputs": [
    {
     "name": "stdout",
     "output_type": "stream",
     "text": [
      "Random Forest Regressor. (RMSE): 6.324658944339078\n"
     ]
    }
   ],
   "source": [
    "# Find RMSE\n",
    "\n",
    "rf_rmse = sqrt(mean_squared_error(y_test, y_pred_rf))\n",
    "print(\"Random Forest Regressor. (RMSE):\", rf_rmse)"
   ]
  },
  {
   "cell_type": "code",
   "execution_count": 75,
   "metadata": {},
   "outputs": [],
   "source": [
    "rf_data={'Random Forest Regressor'                   :[rf_score],\n",
    "         'Random Forest Regressor. (MAE)'            :[rf_mae],\n",
    "         'Random Forest Regressor. (MSE)'            :[rf_mse],\n",
    "         'Random Forest Regressor. (RMSE)'           :[rf_rmse]\n",
    "}"
   ]
  },
  {
   "cell_type": "code",
   "execution_count": 76,
   "metadata": {},
   "outputs": [
    {
     "data": {
      "text/html": [
       "<div>\n",
       "<style scoped>\n",
       "    .dataframe tbody tr th:only-of-type {\n",
       "        vertical-align: middle;\n",
       "    }\n",
       "\n",
       "    .dataframe tbody tr th {\n",
       "        vertical-align: top;\n",
       "    }\n",
       "\n",
       "    .dataframe thead th {\n",
       "        text-align: right;\n",
       "    }\n",
       "</style>\n",
       "<table border=\"1\" class=\"dataframe\">\n",
       "  <thead>\n",
       "    <tr style=\"text-align: right;\">\n",
       "      <th></th>\n",
       "      <th>Random Forest Regressor</th>\n",
       "      <th>Random Forest Regressor. (MAE)</th>\n",
       "      <th>Random Forest Regressor. (MSE)</th>\n",
       "      <th>Random Forest Regressor. (RMSE)</th>\n",
       "    </tr>\n",
       "  </thead>\n",
       "  <tbody>\n",
       "    <tr>\n",
       "      <th>Score</th>\n",
       "      <td>-59.545</td>\n",
       "      <td>492.473871</td>\n",
       "      <td>4000.131076</td>\n",
       "      <td>6.324659</td>\n",
       "    </tr>\n",
       "  </tbody>\n",
       "</table>\n",
       "</div>"
      ],
      "text/plain": [
       "       Random Forest Regressor  Random Forest Regressor. (MAE)  \\\n",
       "Score                  -59.545                      492.473871   \n",
       "\n",
       "       Random Forest Regressor. (MSE)  Random Forest Regressor. (RMSE)  \n",
       "Score                     4000.131076                         6.324659  "
      ]
     },
     "execution_count": 76,
     "metadata": {},
     "output_type": "execute_result"
    }
   ],
   "source": [
    "rf_Evaluation = pd.DataFrame(rf_data, index=['Score'])\n",
    "rf_Evaluation"
   ]
  },
  {
   "cell_type": "markdown",
   "metadata": {},
   "source": [
    "#### <span style=\"color:yellow\">K-Nearest Neighbors Regressor</span>\n",
    "\n",
    "<a class=\"anchor\" id=\"5.4\"></a>"
   ]
  },
  {
   "cell_type": "code",
   "execution_count": 77,
   "metadata": {},
   "outputs": [
    {
     "data": {
      "text/plain": [
       "KNeighborsRegressor()"
      ]
     },
     "execution_count": 77,
     "metadata": {},
     "output_type": "execute_result"
    }
   ],
   "source": [
    "# KNeighborsRegressor\n",
    "\n",
    "knn_model = KNeighborsRegressor().fit(X_train, y_train)\n",
    "knn_model"
   ]
  },
  {
   "cell_type": "code",
   "execution_count": 78,
   "metadata": {},
   "outputs": [
    {
     "name": "stdout",
     "output_type": "stream",
     "text": [
      "K-Nearest Neighbors: 1.908\n"
     ]
    }
   ],
   "source": [
    "y_pred_knn = knn_model.predict(X_test)\n",
    "y_pred_knn\n",
    "\n",
    "# K_Nearest Neighbours \n",
    "knn_score = np.round(r2_score(y_test, y_pred_knn)*100, 3)\n",
    "print(\"K-Nearest Neighbors:\", knn_score)"
   ]
  },
  {
   "cell_type": "code",
   "execution_count": 79,
   "metadata": {},
   "outputs": [
    {
     "name": "stdout",
     "output_type": "stream",
     "text": [
      "K-Nearest Neighbors. (MAE): 391.72404870624047\n"
     ]
    }
   ],
   "source": [
    "# Find MAE\n",
    "\n",
    "knn_mae = mean_absolute_error(y_test, y_pred_knn)*100\n",
    "print(\"K-Nearest Neighbors. (MAE):\", knn_mae)"
   ]
  },
  {
   "cell_type": "code",
   "execution_count": 80,
   "metadata": {},
   "outputs": [
    {
     "name": "stdout",
     "output_type": "stream",
     "text": [
      "K-Nearest Neighbors. (MSE): 2459.3638152207\n"
     ]
    }
   ],
   "source": [
    "# Find MSE\n",
    "\n",
    "knn_mse = mean_squared_error(y_test, y_pred_knn)*100\n",
    "print(\"K-Nearest Neighbors. (MSE):\", knn_mse)"
   ]
  },
  {
   "cell_type": "code",
   "execution_count": 81,
   "metadata": {},
   "outputs": [
    {
     "name": "stdout",
     "output_type": "stream",
     "text": [
      "K-Nearest Neighbors. (RMSE): 4.95919732942812\n"
     ]
    }
   ],
   "source": [
    "# Find RMSE\n",
    "\n",
    "knn_rmse = sqrt(mean_squared_error(y_test, y_pred_knn))\n",
    "print(\"K-Nearest Neighbors. (RMSE):\", knn_rmse)"
   ]
  },
  {
   "cell_type": "code",
   "execution_count": 82,
   "metadata": {},
   "outputs": [],
   "source": [
    "knn_data={'K-Nearest Neighbors'                   :[knn_score],\n",
    "          'K-Nearest Neighbors. (MAE)'            :[knn_mae],\n",
    "          'K-Nearest Neighbors. (MSE)'            :[knn_mse],\n",
    "          'K-Nearest Neighbors. (RMSE)'           :[knn_rmse]\n",
    "}"
   ]
  },
  {
   "cell_type": "code",
   "execution_count": 83,
   "metadata": {},
   "outputs": [
    {
     "data": {
      "text/html": [
       "<div>\n",
       "<style scoped>\n",
       "    .dataframe tbody tr th:only-of-type {\n",
       "        vertical-align: middle;\n",
       "    }\n",
       "\n",
       "    .dataframe tbody tr th {\n",
       "        vertical-align: top;\n",
       "    }\n",
       "\n",
       "    .dataframe thead th {\n",
       "        text-align: right;\n",
       "    }\n",
       "</style>\n",
       "<table border=\"1\" class=\"dataframe\">\n",
       "  <thead>\n",
       "    <tr style=\"text-align: right;\">\n",
       "      <th></th>\n",
       "      <th>K-Nearest Neighbors</th>\n",
       "      <th>K-Nearest Neighbors. (MAE)</th>\n",
       "      <th>K-Nearest Neighbors. (MSE)</th>\n",
       "      <th>K-Nearest Neighbors. (RMSE)</th>\n",
       "    </tr>\n",
       "  </thead>\n",
       "  <tbody>\n",
       "    <tr>\n",
       "      <th>Score</th>\n",
       "      <td>1.908</td>\n",
       "      <td>391.724049</td>\n",
       "      <td>2459.363815</td>\n",
       "      <td>4.959197</td>\n",
       "    </tr>\n",
       "  </tbody>\n",
       "</table>\n",
       "</div>"
      ],
      "text/plain": [
       "       K-Nearest Neighbors  K-Nearest Neighbors. (MAE)  \\\n",
       "Score                1.908                  391.724049   \n",
       "\n",
       "       K-Nearest Neighbors. (MSE)  K-Nearest Neighbors. (RMSE)  \n",
       "Score                 2459.363815                     4.959197  "
      ]
     },
     "execution_count": 83,
     "metadata": {},
     "output_type": "execute_result"
    }
   ],
   "source": [
    "knn_Evaluation = pd.DataFrame(knn_data, index=['Score'])\n",
    "knn_Evaluation"
   ]
  },
  {
   "cell_type": "markdown",
   "metadata": {},
   "source": [
    "#### <span style=\"color:yellow\">Support Vector Machine</span>\n",
    "\n",
    "<a class=\"anchor\" id=\"5.5\"></a>"
   ]
  },
  {
   "cell_type": "code",
   "execution_count": 84,
   "metadata": {},
   "outputs": [
    {
     "name": "stderr",
     "output_type": "stream",
     "text": [
      "C:\\Users\\fahad\\AppData\\Local\\Packages\\PythonSoftwareFoundation.Python.3.9_qbz5n2kfra8p0\\LocalCache\\local-packages\\Python39\\site-packages\\sklearn\\utils\\validation.py:993: DataConversionWarning: A column-vector y was passed when a 1d array was expected. Please change the shape of y to (n_samples, ), for example using ravel().\n",
      "  y = column_or_1d(y, warn=True)\n"
     ]
    },
    {
     "data": {
      "text/plain": [
       "SVR(kernel='linear')"
      ]
     },
     "execution_count": 84,
     "metadata": {},
     "output_type": "execute_result"
    }
   ],
   "source": [
    "# SVM\n",
    "\n",
    "svm_model = svm.SVR(kernel= 'linear').fit(X_train, y_train)\n",
    "svm_model"
   ]
  },
  {
   "cell_type": "code",
   "execution_count": 85,
   "metadata": {},
   "outputs": [
    {
     "name": "stdout",
     "output_type": "stream",
     "text": [
      "Support Vector Machine: 7.315\n"
     ]
    }
   ],
   "source": [
    "y_pred_svm = svm_model.predict(X_test)\n",
    "y_pred_svm\n",
    "\n",
    "# SVM \n",
    "svm_score = np.round(r2_score(y_test, y_pred_svm)*100, 3)\n",
    "print(\"Support Vector Machine:\", svm_score)"
   ]
  },
  {
   "cell_type": "code",
   "execution_count": 86,
   "metadata": {},
   "outputs": [
    {
     "name": "stdout",
     "output_type": "stream",
     "text": [
      "Support Vector Machine. (MAE): 380.601125610857\n"
     ]
    }
   ],
   "source": [
    "# Find MAE\n",
    "\n",
    "svm_mae = mean_absolute_error(y_test, y_pred_svm)*100\n",
    "print(\"Support Vector Machine. (MAE):\", svm_mae)"
   ]
  },
  {
   "cell_type": "code",
   "execution_count": 87,
   "metadata": {},
   "outputs": [
    {
     "name": "stdout",
     "output_type": "stream",
     "text": [
      "Support Vector Machine. (MSE): 2323.8160230935023\n"
     ]
    }
   ],
   "source": [
    "# Find MSE\n",
    "\n",
    "svm_mse = mean_squared_error(y_test, y_pred_svm)*100\n",
    "print(\"Support Vector Machine. (MSE):\", svm_mse)"
   ]
  },
  {
   "cell_type": "code",
   "execution_count": 88,
   "metadata": {},
   "outputs": [
    {
     "name": "stdout",
     "output_type": "stream",
     "text": [
      "Support Vector Machine. (RMSE): 4.820597497295851\n"
     ]
    }
   ],
   "source": [
    "# Find RMSE\n",
    "\n",
    "svm_rmse = sqrt(mean_squared_error(y_test, y_pred_svm))\n",
    "print(\"Support Vector Machine. (RMSE):\", svm_rmse)"
   ]
  },
  {
   "cell_type": "code",
   "execution_count": 89,
   "metadata": {},
   "outputs": [],
   "source": [
    "svm_data={'Support Vector Machine'                   :[svm_score],\n",
    "          'Support Vector Machine. (MAE)'            :[svm_mae],\n",
    "          'Support Vector Machine. (MSE)'            :[svm_mse],\n",
    "          'Support Vector Machine. (RMSE)'           :[svm_rmse]\n",
    "}"
   ]
  },
  {
   "cell_type": "code",
   "execution_count": 90,
   "metadata": {},
   "outputs": [
    {
     "data": {
      "text/html": [
       "<div>\n",
       "<style scoped>\n",
       "    .dataframe tbody tr th:only-of-type {\n",
       "        vertical-align: middle;\n",
       "    }\n",
       "\n",
       "    .dataframe tbody tr th {\n",
       "        vertical-align: top;\n",
       "    }\n",
       "\n",
       "    .dataframe thead th {\n",
       "        text-align: right;\n",
       "    }\n",
       "</style>\n",
       "<table border=\"1\" class=\"dataframe\">\n",
       "  <thead>\n",
       "    <tr style=\"text-align: right;\">\n",
       "      <th></th>\n",
       "      <th>Support Vector Machine</th>\n",
       "      <th>Support Vector Machine. (MAE)</th>\n",
       "      <th>Support Vector Machine. (MSE)</th>\n",
       "      <th>Support Vector Machine. (RMSE)</th>\n",
       "    </tr>\n",
       "  </thead>\n",
       "  <tbody>\n",
       "    <tr>\n",
       "      <th>Score</th>\n",
       "      <td>7.315</td>\n",
       "      <td>380.601126</td>\n",
       "      <td>2323.816023</td>\n",
       "      <td>4.820597</td>\n",
       "    </tr>\n",
       "  </tbody>\n",
       "</table>\n",
       "</div>"
      ],
      "text/plain": [
       "       Support Vector Machine  Support Vector Machine. (MAE)  \\\n",
       "Score                   7.315                     380.601126   \n",
       "\n",
       "       Support Vector Machine. (MSE)  Support Vector Machine. (RMSE)  \n",
       "Score                    2323.816023                        4.820597  "
      ]
     },
     "execution_count": 90,
     "metadata": {},
     "output_type": "execute_result"
    }
   ],
   "source": [
    "svm_Evaluation = pd.DataFrame(svm_data, index=['Score'])\n",
    "svm_Evaluation"
   ]
  },
  {
   "cell_type": "markdown",
   "metadata": {},
   "source": [
    "***"
   ]
  },
  {
   "cell_type": "markdown",
   "metadata": {},
   "source": [
    "### <span style=\"color:cyan\">Step: 06</span>: Evaluate or Compare Models Accuracy\n",
    "\n",
    "<a class=\"anchor\" id=\"6\"></a>"
   ]
  },
  {
   "cell_type": "code",
   "execution_count": 91,
   "metadata": {},
   "outputs": [],
   "source": [
    "data={'Linear Regression'                  :[linear_score],\n",
    "      'Decision tree Regressor'            :[dt_score],\n",
    "      'Random Forest Regressor'            :[rf_score],\n",
    "      'KNN Regressor'                      :[knn_score],\n",
    "      'SVM Regressor'                      :[svm_score]\n",
    "}"
   ]
  },
  {
   "cell_type": "code",
   "execution_count": 92,
   "metadata": {},
   "outputs": [
    {
     "data": {
      "text/html": [
       "<div>\n",
       "<style scoped>\n",
       "    .dataframe tbody tr th:only-of-type {\n",
       "        vertical-align: middle;\n",
       "    }\n",
       "\n",
       "    .dataframe tbody tr th {\n",
       "        vertical-align: top;\n",
       "    }\n",
       "\n",
       "    .dataframe thead th {\n",
       "        text-align: right;\n",
       "    }\n",
       "</style>\n",
       "<table border=\"1\" class=\"dataframe\">\n",
       "  <thead>\n",
       "    <tr style=\"text-align: right;\">\n",
       "      <th></th>\n",
       "      <th>Linear Regression</th>\n",
       "      <th>Decision tree Regressor</th>\n",
       "      <th>Random Forest Regressor</th>\n",
       "      <th>KNN Regressor</th>\n",
       "      <th>SVM Regressor</th>\n",
       "    </tr>\n",
       "  </thead>\n",
       "  <tbody>\n",
       "    <tr>\n",
       "      <th>Score</th>\n",
       "      <td>-47.094</td>\n",
       "      <td>-46.864</td>\n",
       "      <td>-59.545</td>\n",
       "      <td>1.908</td>\n",
       "      <td>7.315</td>\n",
       "    </tr>\n",
       "  </tbody>\n",
       "</table>\n",
       "</div>"
      ],
      "text/plain": [
       "       Linear Regression  Decision tree Regressor  Random Forest Regressor  \\\n",
       "Score            -47.094                  -46.864                  -59.545   \n",
       "\n",
       "       KNN Regressor  SVM Regressor  \n",
       "Score          1.908          7.315  "
      ]
     },
     "execution_count": 92,
     "metadata": {},
     "output_type": "execute_result"
    }
   ],
   "source": [
    "Evaluation = pd.DataFrame(data, index=['Score'])\n",
    "Evaluation"
   ]
  },
  {
   "cell_type": "markdown",
   "metadata": {},
   "source": [
    "***"
   ]
  },
  {
   "cell_type": "markdown",
   "metadata": {},
   "source": [
    "#### <span style=\"color:magenta\">**Apply Cross-Validation**</span>\n",
    "\n",
    "<a class=\"anchor\" id=\"7\"></a>"
   ]
  },
  {
   "cell_type": "code",
   "execution_count": 93,
   "metadata": {},
   "outputs": [],
   "source": [
    "# svm_validate = np.round(cross_val_score(svm_model, X, y, cv=5, scoring='accuracy').mean()*100, 3)\n",
    "# print(\"After cross validation of SVM:\", svm_validate)"
   ]
  },
  {
   "cell_type": "markdown",
   "metadata": {},
   "source": [
    "#### <span style=\"color:green\">**Best Technique**</span>: <span style=\"color:yellow\">**Support Vector Machine**</span>\n",
    "\n",
    "<a class=\"anchor\" id=\"8\"></a>"
   ]
  },
  {
   "cell_type": "code",
   "execution_count": 94,
   "metadata": {},
   "outputs": [],
   "source": [
    "best_data={'Support Vector Machine'                   :[svm_score],\n",
    "           'Support Vector Machine. (MAE)'            :[svm_mae],\n",
    "           'Support Vector Machine. (MSE)'            :[svm_mse],\n",
    "           'Support Vector Machine. (RMSE)'           :[svm_rmse]\n",
    "}"
   ]
  },
  {
   "cell_type": "code",
   "execution_count": 95,
   "metadata": {},
   "outputs": [
    {
     "data": {
      "text/html": [
       "<div>\n",
       "<style scoped>\n",
       "    .dataframe tbody tr th:only-of-type {\n",
       "        vertical-align: middle;\n",
       "    }\n",
       "\n",
       "    .dataframe tbody tr th {\n",
       "        vertical-align: top;\n",
       "    }\n",
       "\n",
       "    .dataframe thead th {\n",
       "        text-align: right;\n",
       "    }\n",
       "</style>\n",
       "<table border=\"1\" class=\"dataframe\">\n",
       "  <thead>\n",
       "    <tr style=\"text-align: right;\">\n",
       "      <th></th>\n",
       "      <th>Support Vector Machine</th>\n",
       "      <th>Support Vector Machine. (MAE)</th>\n",
       "      <th>Support Vector Machine. (MSE)</th>\n",
       "      <th>Support Vector Machine. (RMSE)</th>\n",
       "    </tr>\n",
       "  </thead>\n",
       "  <tbody>\n",
       "    <tr>\n",
       "      <th>Score</th>\n",
       "      <td>7.315</td>\n",
       "      <td>380.601126</td>\n",
       "      <td>2323.816023</td>\n",
       "      <td>4.820597</td>\n",
       "    </tr>\n",
       "  </tbody>\n",
       "</table>\n",
       "</div>"
      ],
      "text/plain": [
       "       Support Vector Machine  Support Vector Machine. (MAE)  \\\n",
       "Score                   7.315                     380.601126   \n",
       "\n",
       "       Support Vector Machine. (MSE)  Support Vector Machine. (RMSE)  \n",
       "Score                    2323.816023                        4.820597  "
      ]
     },
     "execution_count": 95,
     "metadata": {},
     "output_type": "execute_result"
    }
   ],
   "source": [
    "best_Evaluation = pd.DataFrame(best_data, index=['Score'])\n",
    "best_Evaluation"
   ]
  },
  {
   "cell_type": "markdown",
   "metadata": {},
   "source": [
    "***"
   ]
  },
  {
   "cell_type": "markdown",
   "metadata": {},
   "source": [
    "***"
   ]
  },
  {
   "cell_type": "markdown",
   "metadata": {},
   "source": [
    "***"
   ]
  }
 ],
 "metadata": {
  "interpreter": {
   "hash": "ee4cc8d84dc6f981902d5304bdc76c683070955fdcbe209c465393aed48cb8fb"
  },
  "kernelspec": {
   "display_name": "Python 3.9.12 64-bit (windows store)",
   "language": "python",
   "name": "python3"
  },
  "language_info": {
   "codemirror_mode": {
    "name": "ipython",
    "version": 3
   },
   "file_extension": ".py",
   "mimetype": "text/x-python",
   "name": "python",
   "nbconvert_exporter": "python",
   "pygments_lexer": "ipython3",
   "version": "3.9.12"
  }
 },
 "nbformat": 4,
 "nbformat_minor": 2
}
